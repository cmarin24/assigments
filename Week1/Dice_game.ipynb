{
 "cells": [
  {
   "cell_type": "code",
   "execution_count": 6,
   "metadata": {},
   "outputs": [
    {
     "name": "stdout",
     "output_type": "stream",
     "text": [
      "Your roll was a 5\n",
      "Do you want to roll again?\n",
      "Thanks for playing\n"
     ]
    }
   ],
   "source": [
    "import random\n",
    "\n",
    "num = random.randint(1,6)\n",
    "    \n",
    "def roll_dice():\n",
    "    print(\"Your roll was a\", num)\n",
    "    print(\"Do you want to roll again?\")\n",
    "\n",
    "def repeat(roll_dice):\n",
    "    repeat\n",
    "    print(\"Thanks for playing\")\n",
    "\n",
    "roll_dice()\n",
    "repeat('roll_dice')"
   ]
  },
  {
   "cell_type": "code",
   "execution_count": 16,
   "metadata": {},
   "outputs": [
    {
     "name": "stdout",
     "output_type": "stream",
     "text": [
      "Your roll was a 2\n",
      "Do you want to roll again?\n",
      "Yes\n",
      "Thanks for playing\n"
     ]
    }
   ],
   "source": [
    "import random\n",
    "\n",
    "num = random.randint(1,6)\n",
    "answer = \"Yes\"\n",
    "    \n",
    "def roll_dice():\n",
    "    print(\"Your roll was a\", num)\n",
    "    print(\"Do you want to roll again?\")\n",
    "\n",
    "    print(answer)\n",
    "\n",
    "def repeat(roll_dice):\n",
    "  \n",
    "    repeat\n",
    "    print(\"Thanks for playing\")\n",
    "\n",
    "roll_dice()\n",
    "repeat('roll_dice')"
   ]
  }
 ],
 "metadata": {
  "interpreter": {
   "hash": "916dbcbb3f70747c44a77c7bcd40155683ae19c65e1c03b4aa3499c5328201f1"
  },
  "kernelspec": {
   "display_name": "Python 3.9.2 64-bit",
   "language": "python",
   "name": "python3"
  },
  "language_info": {
   "codemirror_mode": {
    "name": "ipython",
    "version": 3
   },
   "file_extension": ".py",
   "mimetype": "text/x-python",
   "name": "python",
   "nbconvert_exporter": "python",
   "pygments_lexer": "ipython3",
   "version": "3.9.2"
  },
  "orig_nbformat": 4
 },
 "nbformat": 4,
 "nbformat_minor": 2
}
