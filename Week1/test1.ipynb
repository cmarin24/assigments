{
 "cells": [
  {
   "cell_type": "code",
   "execution_count": 2,
   "metadata": {},
   "outputs": [
    {
     "name": "stdout",
     "output_type": "stream",
     "text": [
      "13\n"
     ]
    }
   ],
   "source": [
    "number1 = 5\n",
    "number2 = 8\n",
    "\n",
    "mixedvariables = number1 + number2\n",
    "\n",
    "print(mixedvariables)"
   ]
  },
  {
   "cell_type": "code",
   "execution_count": 1,
   "metadata": {},
   "outputs": [
    {
     "name": "stdout",
     "output_type": "stream",
     "text": [
      "['pen', 'pencil', 'book']\n"
     ]
    }
   ],
   "source": [
    "mylist = ['pen', 'pencil', 'book']\n",
    "print(mylist)"
   ]
  },
  {
   "cell_type": "code",
   "execution_count": 4,
   "metadata": {},
   "outputs": [
    {
     "name": "stdout",
     "output_type": "stream",
     "text": [
      "['pen', 'pencil', 'book', 'pen', '33', 'true']\n",
      "6\n"
     ]
    }
   ],
   "source": [
    "mylist = ['pen', 'pencil', 'book', 'pen','33','true']\n",
    "print(mylist)\n",
    "print(len(mylist))"
   ]
  },
  {
   "cell_type": "code",
   "execution_count": 5,
   "metadata": {},
   "outputs": [
    {
     "name": "stdout",
     "output_type": "stream",
     "text": [
      "<class 'list'>\n",
      "4\n"
     ]
    }
   ],
   "source": [
    "mylist = ['pen', 'pencil', 'book', 'pen']\n",
    "print(type(mylist))\n",
    "print(len(mylist))"
   ]
  },
  {
   "cell_type": "code",
   "execution_count": 10,
   "metadata": {},
   "outputs": [
    {
     "name": "stdout",
     "output_type": "stream",
     "text": [
      "eraser\n"
     ]
    }
   ],
   "source": [
    "mylist = ['pen', 'pencil', 'book', 'eraser']\n",
    "print(mylist[-1])\n",
    "#listeaza ultimul din lista"
   ]
  },
  {
   "cell_type": "code",
   "execution_count": 20,
   "metadata": {},
   "outputs": [
    {
     "name": "stdout",
     "output_type": "stream",
     "text": [
      "['pen', 'sharpner', 'pencil', 'compass', 'highlighter', 'ruler', 'pencilcase', 'notebook']\n"
     ]
    }
   ],
   "source": [
    "mylist = ['pen', 'pencil', 'book', 'rubber','ruler', 'pencilcase', 'notebook']\n",
    "mylist[2:4] = ['compass', 'highlighter'] \n",
    "mylist.insert(1, 'sharpner')\n",
    "print(mylist)"
   ]
  },
  {
   "cell_type": "code",
   "execution_count": 24,
   "metadata": {},
   "outputs": [
    {
     "name": "stdout",
     "output_type": "stream",
     "text": [
      "['pen', 'pencil', 'book', 'rubber', 'marker', 'ruler', 'notebook', 'pencilcase', 'cherry', 'grape']\n"
     ]
    }
   ],
   "source": [
    "mylist = ['pen', 'pencil', 'book', 'rubber','ruler', 'notebook']\n",
    "mylist.append('pencilcase')\n",
    "mylist.insert(4, 'marker')\n",
    "fruits = ['cherry', 'grape']\n",
    "mylist.extend(fruits)\n",
    "print(mylist)"
   ]
  },
  {
   "cell_type": "code",
   "execution_count": 28,
   "metadata": {},
   "outputs": [
    {
     "name": "stdout",
     "output_type": "stream",
     "text": [
      "['pen', 'rubber', 'ruler']\n"
     ]
    }
   ],
   "source": [
    "mylist = ['pen', 'pencil', 'book', 'rubber','ruler', 'notebook']\n",
    "mylist.remove('book')\n",
    "mylist.pop()\n",
    "mylist.pop(1)\n",
    "print(mylist)"
   ]
  },
  {
   "cell_type": "code",
   "execution_count": 29,
   "metadata": {},
   "outputs": [
    {
     "name": "stdout",
     "output_type": "stream",
     "text": [
      "['pen', 'pencil', 'book', 'ruler', 'notebook']\n"
     ]
    }
   ],
   "source": [
    "mylist = ['pen', 'pencil', 'book', 'rubber','ruler', 'notebook']\n",
    "del mylist[3]\n",
    "print(mylist)"
   ]
  },
  {
   "cell_type": "code",
   "execution_count": 30,
   "metadata": {},
   "outputs": [
    {
     "name": "stdout",
     "output_type": "stream",
     "text": [
      "[]\n"
     ]
    }
   ],
   "source": [
    "mylist = ['pen', 'pencil', 'book', 'rubber','ruler', 'notebook']\n",
    "mylist.clear()\n",
    "print(mylist)"
   ]
  },
  {
   "cell_type": "code",
   "execution_count": 31,
   "metadata": {},
   "outputs": [
    {
     "name": "stdout",
     "output_type": "stream",
     "text": [
      "pen\n",
      "pencil\n",
      "book\n",
      "rubber\n",
      "ruler\n",
      "notebook\n"
     ]
    }
   ],
   "source": [
    "mylist = ['pen', 'pencil', 'book', 'rubber','ruler', 'notebook']\n",
    "for i in mylist:\n",
    "    print(i)"
   ]
  },
  {
   "cell_type": "code",
   "execution_count": 36,
   "metadata": {},
   "outputs": [
    {
     "name": "stdout",
     "output_type": "stream",
     "text": [
      "pen\n",
      "pencil\n",
      "book\n",
      "rubber\n",
      "ruler\n",
      "notebook\n"
     ]
    }
   ],
   "source": [
    "mylist = ['pen', 'pencil', 'book', 'rubber','ruler', 'notebook']\n",
    "for x in range(len(mylist)):\n",
    "    print(mylist[x])"
   ]
  },
  {
   "cell_type": "code",
   "execution_count": 37,
   "metadata": {},
   "outputs": [
    {
     "name": "stdout",
     "output_type": "stream",
     "text": [
      "pen\n",
      "pencil\n",
      "book\n",
      "rubber\n",
      "ruler\n",
      "notebook\n"
     ]
    }
   ],
   "source": [
    "mylist = ['pen', 'pencil', 'book', 'rubber','ruler', 'notebook']\n",
    "i = 0\n",
    "while i < len(mylist):\n",
    "    print(mylist[i])\n",
    "    i = i + 1"
   ]
  },
  {
   "cell_type": "code",
   "execution_count": 40,
   "metadata": {},
   "outputs": [
    {
     "name": "stdout",
     "output_type": "stream",
     "text": [
      "['book', 'notebook']\n"
     ]
    }
   ],
   "source": [
    "mylist = ['pen', 'pencil', 'book', 'rubber','ruler', 'notebook']\n",
    "newlist = []\n",
    "\n",
    "for x in mylist:\n",
    "    if \"o\" in x:\n",
    "        newlist.append(x)\n",
    "\n",
    "print(newlist)"
   ]
  },
  {
   "cell_type": "code",
   "execution_count": 41,
   "metadata": {},
   "outputs": [
    {
     "name": "stdout",
     "output_type": "stream",
     "text": [
      "['book', 'notebook']\n"
     ]
    }
   ],
   "source": [
    "mylist = ['pen', 'pencil', 'book', 'rubber','ruler', 'notebook']\n",
    "newlist = [x for x in mylist if \"o\" in x]\n",
    "print(newlist)"
   ]
  },
  {
   "cell_type": "code",
   "execution_count": 42,
   "metadata": {},
   "outputs": [
    {
     "name": "stdout",
     "output_type": "stream",
     "text": [
      "['pen', 'pencil', 'book', 'ruler', 'notebook']\n"
     ]
    }
   ],
   "source": [
    "mylist = ['pen', 'pencil', 'book', 'rubber','ruler', 'notebook']\n",
    "newlist = [x for x in mylist if x != 'rubber']\n",
    "print(newlist)"
   ]
  },
  {
   "cell_type": "code",
   "execution_count": 45,
   "metadata": {},
   "outputs": [
    {
     "name": "stdout",
     "output_type": "stream",
     "text": [
      "[4, 5, 6, 7, 8, 9]\n"
     ]
    }
   ],
   "source": [
    "newlist = [x for x in range(10) if x>3]\n",
    "print(newlist)"
   ]
  },
  {
   "cell_type": "code",
   "execution_count": 61,
   "metadata": {},
   "outputs": [
    {
     "ename": "IndentationError",
     "evalue": "expected an indented block (1543289342.py, line 2)",
     "output_type": "error",
     "traceback": [
      "\u001b[0;36m  Input \u001b[0;32mIn [61]\u001b[0;36m\u001b[0m\n\u001b[0;31m    for x in range(1,6)\u001b[0m\n\u001b[0m    ^\u001b[0m\n\u001b[0;31mIndentationError\u001b[0m\u001b[0;31m:\u001b[0m expected an indented block\n"
     ]
    }
   ],
   "source": [
    "def roll_dice():\n",
    "for x in range(1,6)\n",
    "    print(x)\n",
    "\n",
    "roll_dice()"
   ]
  },
  {
   "cell_type": "code",
   "execution_count": 65,
   "metadata": {},
   "outputs": [
    {
     "name": "stdout",
     "output_type": "stream",
     "text": [
      "Your dice is 4\n",
      "Do you want to roll again?\n"
     ]
    }
   ],
   "source": [
    "import random\n",
    "\n",
    "num = random.randint(1,6)\n",
    "\n",
    "def roll_dice():    \n",
    " print(\"Your dice is\", num)\n",
    " print(\"Do you want to roll again?\")\n",
    "\n",
    "roll_dice()\n"
   ]
  },
  {
   "cell_type": "code",
   "execution_count": 1,
   "metadata": {},
   "outputs": [
    {
     "name": "stdout",
     "output_type": "stream",
     "text": [
      "Last night I dreamed I was a pretty butterfly with purple splocthes that looked like blanket . I flew to library with my best friend, sister, who was a colourful ladybug. We ate some strawberry when we got there and then decided to dance and the dream ended when I said -- lets dance.\n"
     ]
    }
   ],
   "source": [
    "adjective1 = input(\"enter an adjective: \")\n",
    "color = input(\"enter a color: \")\n",
    "thing = input(\"enter a thing: \")\n",
    "place = input(\"enter a place: \")\n",
    "person = input(\"enter a person: \")\n",
    "adjective2 = input(\"enter an adjective: \")\n",
    "insect = input(\"enter an insect: \")\n",
    "food = input(\"enter a food: \")\n",
    "verb = input(\"enter a verb: \")\n",
    "\n",
    "print(\"Last night I dreamed I was a \" + adjective1 + \" butterfly with \" + color + \" splocthes that looked like \" + thing + \" . I flew to \" + place + \" with my best friend, \" + person + \", who was a \" + adjective2 + \" \" + insect + \". We ate some \" + food + \" when we got there and then decided to \" + verb + \" and the dream ended when I said -- lets \" + verb + \".\")\n"
   ]
  }
 ],
 "metadata": {
  "interpreter": {
   "hash": "916dbcbb3f70747c44a77c7bcd40155683ae19c65e1c03b4aa3499c5328201f1"
  },
  "kernelspec": {
   "display_name": "Python 3.9.2 64-bit",
   "language": "python",
   "name": "python3"
  },
  "language_info": {
   "codemirror_mode": {
    "name": "ipython",
    "version": 3
   },
   "file_extension": ".py",
   "mimetype": "text/x-python",
   "name": "python",
   "nbconvert_exporter": "python",
   "pygments_lexer": "ipython3",
   "version": "3.9.2"
  },
  "orig_nbformat": 4
 },
 "nbformat": 4,
 "nbformat_minor": 2
}
