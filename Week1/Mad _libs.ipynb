{
 "cells": [
  {
   "cell_type": "code",
   "execution_count": 9,
   "metadata": {},
   "outputs": [
    {
     "name": "stdout",
     "output_type": "stream",
     "text": [
      "Last night I dreamed I was a beautiful butterfly with pink splocthes that looked like dots . I flew to Paris with my best friend, Ann, who was a nice bee. We ate some croissants when we got there and then decided to walk and the dream ended when I said -- lets walk.\n"
     ]
    }
   ],
   "source": [
    "adjective1 = input(\"enter an adjective: \")\n",
    "color = input(\"enter a color: \")\n",
    "thing = input(\"enter a thing: \")\n",
    "place = input(\"enter a place: \")\n",
    "person = input(\"enter a person: \")\n",
    "adjective2 = input(\"enter an adjective: \")\n",
    "insect = input(\"enter an insect: \")\n",
    "food = input(\"enter a food: \")\n",
    "verb = input(\"enter a verb: \")\n",
    "\n",
    "print(\"Last night I dreamed I was a \" + adjective1 + \" butterfly with \" + color + \" splocthes that looked like \" + thing + \" . I flew to \" + place + \" with my best friend, \" + person + \", who was a \" + adjective2 + \" \" + insect + \". We ate some \" + food + \" when we got there and then decided to \" + verb + \" and the dream ended when I said -- lets \" + verb + \".\")\n"
   ]
  }
 ],
 "metadata": {
  "interpreter": {
   "hash": "916dbcbb3f70747c44a77c7bcd40155683ae19c65e1c03b4aa3499c5328201f1"
  },
  "kernelspec": {
   "display_name": "Python 3.9.2 64-bit",
   "language": "python",
   "name": "python3"
  },
  "language_info": {
   "codemirror_mode": {
    "name": "ipython",
    "version": 3
   },
   "file_extension": ".py",
   "mimetype": "text/x-python",
   "name": "python",
   "nbconvert_exporter": "python",
   "pygments_lexer": "ipython3",
   "version": "3.9.2"
  },
  "orig_nbformat": 4
 },
 "nbformat": 4,
 "nbformat_minor": 2
}
