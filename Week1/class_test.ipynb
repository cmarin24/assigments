{
 "cells": [
  {
   "cell_type": "code",
   "execution_count": 8,
   "metadata": {},
   "outputs": [
    {
     "name": "stdout",
     "output_type": "stream",
     "text": [
      "89\n"
     ]
    }
   ],
   "source": [
    "class MyClass:\n",
    "    x = 10\n",
    "#inainte x era 89!\n",
    "    p1 = MyClass ()\n",
    "    print(p1.x)"
   ]
  },
  {
   "cell_type": "code",
   "execution_count": 9,
   "metadata": {},
   "outputs": [
    {
     "name": "stdout",
     "output_type": "stream",
     "text": [
      "John\n",
      "45\n"
     ]
    }
   ],
   "source": [
    "class Person:\n",
    "    def __init__(self, name, age):\n",
    "        self.name = name\n",
    "        self.age = age\n",
    "\n",
    "p1 = Person(\"John\", 45)\n",
    "\n",
    "print(p1.name)\n",
    "print(p1.age)"
   ]
  },
  {
   "cell_type": "code",
   "execution_count": 2,
   "metadata": {},
   "outputs": [
    {
     "name": "stdout",
     "output_type": "stream",
     "text": [
      "Hello my name is Dan\n",
      "29\n"
     ]
    }
   ],
   "source": [
    "class Person:\n",
    "    def __init__(self, name, age):\n",
    "        self.name = name\n",
    "        self.age = age\n",
    "\n",
    "    def myfunc(self):\n",
    "        print(\"Hello my name is \" + self.name)\n",
    "\n",
    "        print(self.age)\n",
    "       \n",
    "\n",
    "p1 = Person(\"Dan\", 29)\n",
    "p1.myfunc()\n",
    "\n"
   ]
  },
  {
   "cell_type": "code",
   "execution_count": null,
   "metadata": {},
   "outputs": [],
   "source": [
    "import random\n",
    "\n",
    "num = random.randint(1,6)\n",
    "answer = \"Yes\"\n",
    "    \n",
    "def roll_dice():\n",
    "    print(\"Your roll was a\", num)\n",
    "    print(\"Do you want to roll again?\")\n",
    "\n",
    "    print(answer)\n",
    "\n",
    "def repeat(roll_dice):\n",
    "  \n",
    "    repeat\n",
    "    print(\"Thanks for playing\")\n",
    "\n",
    "roll_dice()\n",
    "repeat('roll_dice')"
   ]
  },
  {
   "cell_type": "code",
   "execution_count": 56,
   "metadata": {},
   "outputs": [
    {
     "ename": "SyntaxError",
     "evalue": "invalid syntax (3011012487.py, line 13)",
     "output_type": "error",
     "traceback": [
      "\u001b[0;36m  Input \u001b[0;32mIn [56]\u001b[0;36m\u001b[0m\n\u001b[0;31m    While answer == \"Yes\":\u001b[0m\n\u001b[0m          ^\u001b[0m\n\u001b[0;31mSyntaxError\u001b[0m\u001b[0;31m:\u001b[0m invalid syntax\n"
     ]
    }
   ],
   "source": [
    "import random\n",
    "\n",
    "num = random.randint(1,6)\n",
    "answer = input(\"Do you want to roll again?\" (yes/no) \")\n",
    "\n",
    "\n",
    "def roll_dice():\n",
    "    print(\"Your roll was a \", num)\n",
    "    print(\"Do you want to roll again?\")\n",
    "    if answer.lower():\n",
    "\n",
    "    \n",
    "def repeat(roll_dice):\n",
    "    While answer == \"Yes\":\n",
    "    answer = input(\"Do you want to roll again?\")\n",
    "    repeat\n",
    "\n",
    " answer == \"Yes\":\n",
    "    repeat\n",
    "\n",
    "    if answer == \"No\":\n",
    "       print(\"Thank you for playing!\")\n",
    "\n",
    "roll_dice()\n",
    "repeat(roll_dice)"
   ]
  }
 ],
 "metadata": {
  "interpreter": {
   "hash": "916dbcbb3f70747c44a77c7bcd40155683ae19c65e1c03b4aa3499c5328201f1"
  },
  "kernelspec": {
   "display_name": "Python 3.9.2 64-bit",
   "language": "python",
   "name": "python3"
  },
  "language_info": {
   "codemirror_mode": {
    "name": "ipython",
    "version": 3
   },
   "file_extension": ".py",
   "mimetype": "text/x-python",
   "name": "python",
   "nbconvert_exporter": "python",
   "pygments_lexer": "ipython3",
   "version": "3.9.2"
  },
  "orig_nbformat": 4
 },
 "nbformat": 4,
 "nbformat_minor": 2
}
