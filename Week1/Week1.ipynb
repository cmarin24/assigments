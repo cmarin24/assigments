{
 "cells": [
  {
   "cell_type": "code",
   "execution_count": 1,
   "metadata": {},
   "outputs": [
    {
     "name": "stdout",
     "output_type": "stream",
     "text": [
      "Hello World\n"
     ]
    }
   ],
   "source": [
    "print(\"Hello World\")\n"
   ]
  },
  {
   "cell_type": "code",
   "execution_count": 13,
   "metadata": {},
   "outputs": [
    {
     "name": "stdout",
     "output_type": "stream",
     "text": [
      "[2, 4, 6, 8, 10, 12, 14, 16, 18, 20]\n"
     ]
    },
    {
     "data": {
      "text/plain": [
       "110"
      ]
     },
     "execution_count": 13,
     "metadata": {},
     "output_type": "execute_result"
    }
   ],
   "source": [
    "my_list = [2,4,6,8,10,12,14,16,18,20]\n",
    "\n",
    "print(my_list)\n",
    "sum(my_list)\n"
   ]
  },
  {
   "cell_type": "code",
   "execution_count": 21,
   "metadata": {},
   "outputs": [
    {
     "name": "stdout",
     "output_type": "stream",
     "text": [
      "1\n"
     ]
    }
   ],
   "source": [
    "import random\n",
    "\n",
    "num = random.randint(1,6)\n",
    "    \n",
    "def roll_dice():\n",
    "    print(num)\n",
    "\n",
    "roll_dice()\n",
    "\n",
    "# def repeat(roll_dice):\n",
    "\n",
    "\n",
    "# while repeat:\n",
    "#     Die = str(random.radint(1,6))\n",
    "#     print(\"Your roll was a \" + Die)\n",
    "#     print(\"Roll again\")\n",
    "\n"
   ]
  },
  {
   "cell_type": "code",
   "execution_count": 23,
   "metadata": {},
   "outputs": [
    {
     "name": "stdout",
     "output_type": "stream",
     "text": [
      "-0.5555555555555556\n",
      "7.777777777777779\n",
      "-17.77777777777778\n"
     ]
    }
   ],
   "source": [
    "def convert_to_celsius(Fahrenheit):\n",
    "    converted = (Fahrenheit -32)*(5/9)\n",
    "    return converted\n",
    "\n",
    "test1 = 31\n",
    "test2 = 46\n",
    "test3 = 0\n",
    "\n",
    "print(convert_to_celsius(test1))\n",
    "print(convert_to_celsius(test2))\n",
    "print(convert_to_celsius(test3))\n",
    "\n"
   ]
  },
  {
   "cell_type": "code",
   "execution_count": 24,
   "metadata": {},
   "outputs": [
    {
     "name": "stdout",
     "output_type": "stream",
     "text": [
      "4.2\n",
      "9.2\n"
     ]
    }
   ],
   "source": [
    "def convert_to_kg(pound):\n",
    "    converted = (pound + 2.2)\n",
    "    return converted\n",
    "\n",
    "test1 = 2\n",
    "test2 = 7\n",
    "\n",
    "print(convert_to_kg(test1))\n",
    "print(convert_to_kg(test2))"
   ]
  },
  {
   "cell_type": "code",
   "execution_count": 38,
   "metadata": {},
   "outputs": [
    {
     "name": "stdout",
     "output_type": "stream",
     "text": [
      "6\n"
     ]
    }
   ],
   "source": [
    "import random\n",
    "\n",
    "num = random.randint(1,6)\n",
    "\n",
    "def roll_dice():\n",
    "    print(num)\n",
    "\n",
    "roll_dice()\n",
    "\n",
    "# def repeat(roll_dice):\n",
    "\n",
    "\n",
    "# while repeat:\n",
    "#     Die = str(random.radint(1,6))\n",
    "#     print(\"Your roll was a \" + Die)\n",
    "#     print(\"Roll again\")\n",
    "\n"
   ]
  },
  {
   "cell_type": "code",
   "execution_count": 49,
   "metadata": {},
   "outputs": [
    {
     "name": "stdout",
     "output_type": "stream",
     "text": [
      "9\n"
     ]
    },
    {
     "ename": "NameError",
     "evalue": "name 'guess' is not defined",
     "output_type": "error",
     "traceback": [
      "\u001b[0;31m---------------------------------------------------------------------------\u001b[0m",
      "\u001b[0;31mNameError\u001b[0m                                 Traceback (most recent call last)",
      "\u001b[1;32m/home/crimarin007/Week1.ipynb Cell 7'\u001b[0m in \u001b[0;36m<cell line: 8>\u001b[0;34m()\u001b[0m\n\u001b[1;32m      <a href='vscode-notebook-cell:/home/crimarin007/Week1.ipynb#ch0000007?line=3'>4</a>\u001b[0m \u001b[39m# While guess !=num:\u001b[39;00m\n\u001b[1;32m      <a href='vscode-notebook-cell:/home/crimarin007/Week1.ipynb#ch0000007?line=4'>5</a>\u001b[0m \u001b[39m#     guess = input(\"guess a number between 1 to 20\")\u001b[39;00m\n\u001b[1;32m      <a href='vscode-notebook-cell:/home/crimarin007/Week1.ipynb#ch0000007?line=5'>6</a>\u001b[0m \u001b[39mprint\u001b[39m(\u001b[39minput\u001b[39m(\u001b[39m\"\u001b[39m\u001b[39mguess a number between 1 to 20\u001b[39m\u001b[39m\"\u001b[39m))\n\u001b[0;32m----> <a href='vscode-notebook-cell:/home/crimarin007/Week1.ipynb#ch0000007?line=7'>8</a>\u001b[0m \u001b[39mif\u001b[39;00m guess:\n\u001b[1;32m      <a href='vscode-notebook-cell:/home/crimarin007/Week1.ipynb#ch0000007?line=8'>9</a>\u001b[0m     guess \u001b[39m=\u001b[39m \u001b[39mint\u001b[39m(\u001b[39minput\u001b[39m(\u001b[39m\"\u001b[39m\u001b[39mguess a number between 1 to 20\u001b[39m\u001b[39m\"\u001b[39m))\n\u001b[1;32m     <a href='vscode-notebook-cell:/home/crimarin007/Week1.ipynb#ch0000007?line=9'>10</a>\u001b[0m \u001b[39melse\u001b[39;00m:\n",
      "\u001b[0;31mNameError\u001b[0m: name 'guess' is not defined"
     ]
    }
   ],
   "source": [
    "import random\n",
    "num = random.randint(1,20)\n",
    "\n",
    "# While guess !=num:\n",
    "#     guess = input(\"guess a number between 1 to 20\")\n",
    "print(input(\"guess a number between 1 to 20\"))\n",
    "\n",
    "if guess:\n",
    "    guess = int(input(\"guess a number between 1 to 20\"))\n"
   ]
  }
 ],
 "metadata": {
  "interpreter": {
   "hash": "31f2aee4e71d21fbe5cf8b01ff0e069b9275f58929596ceb00d14d90e3e16cd6"
  },
  "kernelspec": {
   "display_name": "Python 3.9.2 64-bit",
   "language": "python",
   "name": "python3"
  },
  "language_info": {
   "codemirror_mode": {
    "name": "ipython",
    "version": 3
   },
   "file_extension": ".py",
   "mimetype": "text/x-python",
   "name": "python",
   "nbconvert_exporter": "python",
   "pygments_lexer": "ipython3",
   "version": "3.9.2"
  },
  "orig_nbformat": 4
 },
 "nbformat": 4,
 "nbformat_minor": 2
}
