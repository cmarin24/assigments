{
 "cells": [
  {
   "cell_type": "code",
<<<<<<< HEAD
   "execution_count": 7,
=======
   "execution_count": 5,
>>>>>>> f62badcaf972ec565f024ac1a00b720fe23f96bd
   "metadata": {},
   "outputs": [
    {
     "name": "stdout",
     "output_type": "stream",
     "text": [
      "\n",
<<<<<<< HEAD
      "Congrats! You guess correct! The number is 8\n"
=======
      "Congrats! You guess correct! The number is 4\n"
>>>>>>> f62badcaf972ec565f024ac1a00b720fe23f96bd
     ]
    }
   ],
   "source": [
    "import random\n",
    "n = random.randint(1, 10)\n",
    "num = int(input(\"Guess a number!\"))\n",
    "\n",
    "if num > n:\n",
    "    print(\"\\nYour guess was too higher. Guess a number lower than\", num)\n",
    "elif num < n:\n",
    "    print(\"\\nYour guess was too lower. Guess a number higher than\", num)\n",
    "else:\n",
    "    print(\"\\nCongrats! You guess correct! The number is\", n)\n"
   ]
  }
 ],
 "metadata": {
  "interpreter": {
   "hash": "916dbcbb3f70747c44a77c7bcd40155683ae19c65e1c03b4aa3499c5328201f1"
  },
  "kernelspec": {
   "display_name": "Python 3.9.2 64-bit",
   "language": "python",
   "name": "python3"
  },
  "language_info": {
   "codemirror_mode": {
    "name": "ipython",
    "version": 3
   },
   "file_extension": ".py",
   "mimetype": "text/x-python",
   "name": "python",
   "nbconvert_exporter": "python",
   "pygments_lexer": "ipython3",
   "version": "3.9.2"
  },
  "orig_nbformat": 4
 },
 "nbformat": 4,
 "nbformat_minor": 2
}
