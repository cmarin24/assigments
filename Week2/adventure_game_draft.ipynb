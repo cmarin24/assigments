{
 "cells": [
  {
   "cell_type": "code",
   "execution_count": 7,
   "metadata": {},
   "outputs": [
    {
     "name": "stdout",
     "output_type": "stream",
     "text": [
      "\n",
      "    It is a sunny day! I'm late for work and I'm in a big rush.\n",
      "    But when I got in my car I realised that I don't have my sunglases and I can't drive without them.\n",
      "    Would you like to help me?\n",
      "    \n",
      "That's to bad!\n"
     ]
    }
   ],
   "source": [
    "def intro():\n",
    "    print(\"\"\"\n",
    "    It is a sunny day! I'm late for work and I'm in a big rush.\n",
    "    But when I got in my car I realised that I don't have my sunglases and I can't drive without them.\n",
    "    Would you like to help me?\n",
    "    \"\"\")\n",
    "\n",
    "    answer = input(\"Would you like to help me? (yes/no)\")\n",
    "    if answer == 'yes':\n",
    "        print(answer)\n",
    "\n",
    "    else:\n",
    "        print(\"That's to bad!\")\n",
    "\n",
    "intro()"
   ]
  },
  {
   "cell_type": "code",
   "execution_count": 23,
   "metadata": {},
   "outputs": [
    {
     "name": "stdout",
     "output_type": "stream",
     "text": [
      "\n",
      "    It is a sunny day! I'm late for work and I'm in a big rush.\n",
      "    But when I got in my car I realised that I don't have my sunglases and I can't drive without them.\n",
      "    Would you like to help me?\n",
      "    \n",
      "You are now in Hallway! Where do you want to go next?\n",
      "You are in the Living Room. Have you found my sunglasses? (yes/no)\n",
      "Thank you. You are a star! I can go to work now!\n"
     ]
    }
   ],
   "source": [
    "\n",
    "\n",
    "def intro():\n",
    "    print(\"\"\"\n",
    "    It is a sunny day! I'm late for work and I'm in a big rush.\n",
    "    But when I got in my car I realised that I don't have my sunglases and I can't drive without them.\n",
    "    Would you like to help me?\n",
    "    \"\"\")\n",
    "\n",
    "    answer = input(\"Would you like to help me? (yes/no)\")\n",
    "    directions = ['north', 'south', 'east', 'west', 'n', 's', 'e', 'w']\n",
    "\n",
    "    if answer == 'yes':\n",
    "        print(\"You are now in Hallway! Where do you want to go next?\")\n",
    "        answer = input(directions)\n",
    "        if answer == \"north\":\n",
    "            print(\"You are in the Kitchen. Have you found my sunglasses? (yes/no)\")\n",
    "            answer == input(\"Have you found my sunglasses?\")\n",
    "            if answer == \"yes\":\n",
    "                print(\"Thank you. You are a star! Now I can go to work now!\")\n",
    "            else:\n",
    "                print(\"Keep looking. Check into another room.\")\n",
    "        elif answer == \"south\":\n",
    "            print('You can not go in that direction.')\n",
    "        elif answer == \"west\":\n",
    "            print('You can not go in that direction.')\n",
    "        elif answer == \"east\":\n",
    "            print(\"You are in the Living Room. Have you found my sunglasses? (yes/no)\")\n",
    "            answer = input(\"Have you found my sunglasses?\")\n",
    "            if answer == \"yes\":\n",
    "                print(\"Thank you. You are a star! I can go to work now!\")\n",
    "            else:\n",
    "                print(\"Keep looking. Check into another room.\")\n",
    "        else:\n",
    "            print(\"Keep looking!\")\n",
    "\n",
    "    else:\n",
    "        print(\"That's to bad!\")\n",
    "\n",
    "intro()"
   ]
  }
 ],
 "metadata": {
  "interpreter": {
   "hash": "916dbcbb3f70747c44a77c7bcd40155683ae19c65e1c03b4aa3499c5328201f1"
  },
  "kernelspec": {
   "display_name": "Python 3.9.2 64-bit",
   "language": "python",
   "name": "python3"
  },
  "language_info": {
   "codemirror_mode": {
    "name": "ipython",
    "version": 3
   },
   "file_extension": ".py",
   "mimetype": "text/x-python",
   "name": "python",
   "nbconvert_exporter": "python",
   "pygments_lexer": "ipython3",
   "version": "3.9.2"
  },
  "orig_nbformat": 4
 },
 "nbformat": 4,
 "nbformat_minor": 2
}
