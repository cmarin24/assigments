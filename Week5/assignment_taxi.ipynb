{
 "cells": [
  {
   "cell_type": "code",
   "execution_count": 2,
   "metadata": {},
   "outputs": [
    {
     "data": {
      "text/html": [
       "<div>\n",
       "<style scoped>\n",
       "    .dataframe tbody tr th:only-of-type {\n",
       "        vertical-align: middle;\n",
       "    }\n",
       "\n",
       "    .dataframe tbody tr th {\n",
       "        vertical-align: top;\n",
       "    }\n",
       "\n",
       "    .dataframe thead th {\n",
       "        text-align: right;\n",
       "    }\n",
       "</style>\n",
       "<table border=\"1\" class=\"dataframe\">\n",
       "  <thead>\n",
       "    <tr style=\"text-align: right;\">\n",
       "      <th></th>\n",
       "      <th>MONTH</th>\n",
       "      <th>DAY_OF_MONTH</th>\n",
       "      <th>DAY_OF_WEEK</th>\n",
       "      <th>OP_UNIQUE_CARRIER</th>\n",
       "      <th>TAIL_NUM</th>\n",
       "      <th>DEST</th>\n",
       "      <th>DEP_DELAY</th>\n",
       "      <th>CRS_ELAPSED_TIME</th>\n",
       "      <th>DISTANCE</th>\n",
       "      <th>CRS_DEP_M</th>\n",
       "      <th>...</th>\n",
       "      <th>Dew Point</th>\n",
       "      <th>Humidity</th>\n",
       "      <th>Wind</th>\n",
       "      <th>Wind Speed</th>\n",
       "      <th>Wind Gust</th>\n",
       "      <th>Pressure</th>\n",
       "      <th>Condition</th>\n",
       "      <th>sch_dep</th>\n",
       "      <th>sch_arr</th>\n",
       "      <th>TAXI_OUT</th>\n",
       "    </tr>\n",
       "  </thead>\n",
       "  <tbody>\n",
       "    <tr>\n",
       "      <th>0</th>\n",
       "      <td>11</td>\n",
       "      <td>1</td>\n",
       "      <td>5</td>\n",
       "      <td>B6</td>\n",
       "      <td>N828JB</td>\n",
       "      <td>CHS</td>\n",
       "      <td>-1</td>\n",
       "      <td>124</td>\n",
       "      <td>636</td>\n",
       "      <td>324</td>\n",
       "      <td>...</td>\n",
       "      <td>34</td>\n",
       "      <td>58</td>\n",
       "      <td>W</td>\n",
       "      <td>25</td>\n",
       "      <td>38</td>\n",
       "      <td>29.86</td>\n",
       "      <td>Fair / Windy</td>\n",
       "      <td>9</td>\n",
       "      <td>17</td>\n",
       "      <td>14</td>\n",
       "    </tr>\n",
       "    <tr>\n",
       "      <th>1</th>\n",
       "      <td>11</td>\n",
       "      <td>1</td>\n",
       "      <td>5</td>\n",
       "      <td>B6</td>\n",
       "      <td>N992JB</td>\n",
       "      <td>LAX</td>\n",
       "      <td>-7</td>\n",
       "      <td>371</td>\n",
       "      <td>2475</td>\n",
       "      <td>340</td>\n",
       "      <td>...</td>\n",
       "      <td>34</td>\n",
       "      <td>58</td>\n",
       "      <td>W</td>\n",
       "      <td>25</td>\n",
       "      <td>38</td>\n",
       "      <td>29.86</td>\n",
       "      <td>Fair / Windy</td>\n",
       "      <td>9</td>\n",
       "      <td>17</td>\n",
       "      <td>15</td>\n",
       "    </tr>\n",
       "    <tr>\n",
       "      <th>2</th>\n",
       "      <td>11</td>\n",
       "      <td>1</td>\n",
       "      <td>5</td>\n",
       "      <td>B6</td>\n",
       "      <td>N959JB</td>\n",
       "      <td>FLL</td>\n",
       "      <td>40</td>\n",
       "      <td>181</td>\n",
       "      <td>1069</td>\n",
       "      <td>301</td>\n",
       "      <td>...</td>\n",
       "      <td>34</td>\n",
       "      <td>58</td>\n",
       "      <td>W</td>\n",
       "      <td>25</td>\n",
       "      <td>38</td>\n",
       "      <td>29.86</td>\n",
       "      <td>Fair / Windy</td>\n",
       "      <td>9</td>\n",
       "      <td>17</td>\n",
       "      <td>22</td>\n",
       "    </tr>\n",
       "    <tr>\n",
       "      <th>3</th>\n",
       "      <td>11</td>\n",
       "      <td>1</td>\n",
       "      <td>5</td>\n",
       "      <td>B6</td>\n",
       "      <td>N999JQ</td>\n",
       "      <td>MCO</td>\n",
       "      <td>-2</td>\n",
       "      <td>168</td>\n",
       "      <td>944</td>\n",
       "      <td>345</td>\n",
       "      <td>...</td>\n",
       "      <td>34</td>\n",
       "      <td>58</td>\n",
       "      <td>W</td>\n",
       "      <td>25</td>\n",
       "      <td>38</td>\n",
       "      <td>29.86</td>\n",
       "      <td>Fair / Windy</td>\n",
       "      <td>9</td>\n",
       "      <td>17</td>\n",
       "      <td>12</td>\n",
       "    </tr>\n",
       "    <tr>\n",
       "      <th>4</th>\n",
       "      <td>11</td>\n",
       "      <td>1</td>\n",
       "      <td>5</td>\n",
       "      <td>DL</td>\n",
       "      <td>N880DN</td>\n",
       "      <td>ATL</td>\n",
       "      <td>-4</td>\n",
       "      <td>139</td>\n",
       "      <td>760</td>\n",
       "      <td>360</td>\n",
       "      <td>...</td>\n",
       "      <td>32</td>\n",
       "      <td>58</td>\n",
       "      <td>W</td>\n",
       "      <td>24</td>\n",
       "      <td>35</td>\n",
       "      <td>29.91</td>\n",
       "      <td>Fair / Windy</td>\n",
       "      <td>9</td>\n",
       "      <td>17</td>\n",
       "      <td>13</td>\n",
       "    </tr>\n",
       "    <tr>\n",
       "      <th>...</th>\n",
       "      <td>...</td>\n",
       "      <td>...</td>\n",
       "      <td>...</td>\n",
       "      <td>...</td>\n",
       "      <td>...</td>\n",
       "      <td>...</td>\n",
       "      <td>...</td>\n",
       "      <td>...</td>\n",
       "      <td>...</td>\n",
       "      <td>...</td>\n",
       "      <td>...</td>\n",
       "      <td>...</td>\n",
       "      <td>...</td>\n",
       "      <td>...</td>\n",
       "      <td>...</td>\n",
       "      <td>...</td>\n",
       "      <td>...</td>\n",
       "      <td>...</td>\n",
       "      <td>...</td>\n",
       "      <td>...</td>\n",
       "      <td>...</td>\n",
       "    </tr>\n",
       "    <tr>\n",
       "      <th>28815</th>\n",
       "      <td>1</td>\n",
       "      <td>31</td>\n",
       "      <td>5</td>\n",
       "      <td>B6</td>\n",
       "      <td>N216JB</td>\n",
       "      <td>ORH</td>\n",
       "      <td>2</td>\n",
       "      <td>57</td>\n",
       "      <td>150</td>\n",
       "      <td>1370</td>\n",
       "      <td>...</td>\n",
       "      <td>38</td>\n",
       "      <td>96</td>\n",
       "      <td>N</td>\n",
       "      <td>6</td>\n",
       "      <td>0</td>\n",
       "      <td>30.18</td>\n",
       "      <td>Cloudy</td>\n",
       "      <td>20</td>\n",
       "      <td>32</td>\n",
       "      <td>19</td>\n",
       "    </tr>\n",
       "    <tr>\n",
       "      <th>28816</th>\n",
       "      <td>1</td>\n",
       "      <td>31</td>\n",
       "      <td>5</td>\n",
       "      <td>AA</td>\n",
       "      <td>N104NN</td>\n",
       "      <td>BOS</td>\n",
       "      <td>2</td>\n",
       "      <td>75</td>\n",
       "      <td>187</td>\n",
       "      <td>1390</td>\n",
       "      <td>...</td>\n",
       "      <td>38</td>\n",
       "      <td>96</td>\n",
       "      <td>N</td>\n",
       "      <td>6</td>\n",
       "      <td>0</td>\n",
       "      <td>30.18</td>\n",
       "      <td>Cloudy</td>\n",
       "      <td>19</td>\n",
       "      <td>23</td>\n",
       "      <td>22</td>\n",
       "    </tr>\n",
       "    <tr>\n",
       "      <th>28817</th>\n",
       "      <td>1</td>\n",
       "      <td>31</td>\n",
       "      <td>5</td>\n",
       "      <td>AS</td>\n",
       "      <td>N581AS</td>\n",
       "      <td>SEA</td>\n",
       "      <td>283</td>\n",
       "      <td>392</td>\n",
       "      <td>2422</td>\n",
       "      <td>1125</td>\n",
       "      <td>...</td>\n",
       "      <td>38</td>\n",
       "      <td>96</td>\n",
       "      <td>N</td>\n",
       "      <td>6</td>\n",
       "      <td>0</td>\n",
       "      <td>30.18</td>\n",
       "      <td>Cloudy</td>\n",
       "      <td>19</td>\n",
       "      <td>23</td>\n",
       "      <td>21</td>\n",
       "    </tr>\n",
       "    <tr>\n",
       "      <th>28818</th>\n",
       "      <td>1</td>\n",
       "      <td>31</td>\n",
       "      <td>5</td>\n",
       "      <td>B6</td>\n",
       "      <td>N957JB</td>\n",
       "      <td>SJU</td>\n",
       "      <td>5</td>\n",
       "      <td>224</td>\n",
       "      <td>1598</td>\n",
       "      <td>1417</td>\n",
       "      <td>...</td>\n",
       "      <td>38</td>\n",
       "      <td>96</td>\n",
       "      <td>N</td>\n",
       "      <td>6</td>\n",
       "      <td>0</td>\n",
       "      <td>30.18</td>\n",
       "      <td>Cloudy</td>\n",
       "      <td>19</td>\n",
       "      <td>23</td>\n",
       "      <td>13</td>\n",
       "    </tr>\n",
       "    <tr>\n",
       "      <th>28819</th>\n",
       "      <td>1</td>\n",
       "      <td>31</td>\n",
       "      <td>5</td>\n",
       "      <td>B6</td>\n",
       "      <td>N958JB</td>\n",
       "      <td>BQN</td>\n",
       "      <td>-1</td>\n",
       "      <td>225</td>\n",
       "      <td>1576</td>\n",
       "      <td>1439</td>\n",
       "      <td>...</td>\n",
       "      <td>38</td>\n",
       "      <td>96</td>\n",
       "      <td>N</td>\n",
       "      <td>6</td>\n",
       "      <td>0</td>\n",
       "      <td>30.18</td>\n",
       "      <td>Cloudy</td>\n",
       "      <td>19</td>\n",
       "      <td>23</td>\n",
       "      <td>15</td>\n",
       "    </tr>\n",
       "  </tbody>\n",
       "</table>\n",
       "<p>28820 rows × 23 columns</p>\n",
       "</div>"
      ],
      "text/plain": [
       "       MONTH  DAY_OF_MONTH  DAY_OF_WEEK OP_UNIQUE_CARRIER TAIL_NUM DEST  \\\n",
       "0         11             1            5                B6   N828JB  CHS   \n",
       "1         11             1            5                B6   N992JB  LAX   \n",
       "2         11             1            5                B6   N959JB  FLL   \n",
       "3         11             1            5                B6   N999JQ  MCO   \n",
       "4         11             1            5                DL   N880DN  ATL   \n",
       "...      ...           ...          ...               ...      ...  ...   \n",
       "28815      1            31            5                B6   N216JB  ORH   \n",
       "28816      1            31            5                AA   N104NN  BOS   \n",
       "28817      1            31            5                AS   N581AS  SEA   \n",
       "28818      1            31            5                B6   N957JB  SJU   \n",
       "28819      1            31            5                B6   N958JB  BQN   \n",
       "\n",
       "       DEP_DELAY  CRS_ELAPSED_TIME  DISTANCE  CRS_DEP_M  ...  Dew Point  \\\n",
       "0             -1               124       636        324  ...         34   \n",
       "1             -7               371      2475        340  ...         34   \n",
       "2             40               181      1069        301  ...         34   \n",
       "3             -2               168       944        345  ...         34   \n",
       "4             -4               139       760        360  ...         32   \n",
       "...          ...               ...       ...        ...  ...        ...   \n",
       "28815          2                57       150       1370  ...         38   \n",
       "28816          2                75       187       1390  ...         38   \n",
       "28817        283               392      2422       1125  ...         38   \n",
       "28818          5               224      1598       1417  ...         38   \n",
       "28819         -1               225      1576       1439  ...         38   \n",
       "\n",
       "       Humidity  Wind Wind Speed  Wind Gust Pressure     Condition  sch_dep  \\\n",
       "0            58     W         25         38    29.86  Fair / Windy        9   \n",
       "1            58     W         25         38    29.86  Fair / Windy        9   \n",
       "2            58     W         25         38    29.86  Fair / Windy        9   \n",
       "3            58     W         25         38    29.86  Fair / Windy        9   \n",
       "4            58     W         24         35    29.91  Fair / Windy        9   \n",
       "...         ...   ...        ...        ...      ...           ...      ...   \n",
       "28815        96     N          6          0    30.18        Cloudy       20   \n",
       "28816        96     N          6          0    30.18        Cloudy       19   \n",
       "28817        96     N          6          0    30.18        Cloudy       19   \n",
       "28818        96     N          6          0    30.18        Cloudy       19   \n",
       "28819        96     N          6          0    30.18        Cloudy       19   \n",
       "\n",
       "       sch_arr TAXI_OUT  \n",
       "0           17       14  \n",
       "1           17       15  \n",
       "2           17       22  \n",
       "3           17       12  \n",
       "4           17       13  \n",
       "...        ...      ...  \n",
       "28815       32       19  \n",
       "28816       23       22  \n",
       "28817       23       21  \n",
       "28818       23       13  \n",
       "28819       23       15  \n",
       "\n",
       "[28820 rows x 23 columns]"
      ]
     },
     "execution_count": 2,
     "metadata": {},
     "output_type": "execute_result"
    }
   ],
   "source": [
    "# package for linear regression models\n",
    "import numpy as np\n",
    "import matplotlib.pyplot as plt\n",
    "import pandas as pd\n",
    "from sklearn.linear_model import LinearRegression\n",
    "\n",
    "data = pd.read_csv('M1_final.csv') # load the data\n",
    "\n",
    "data\n"
   ]
  },
  {
   "cell_type": "code",
   "execution_count": 3,
   "metadata": {},
   "outputs": [
    {
     "data": {
      "image/png": "[encoded data removed]",
      "text/plain": [
       "<Figure size 432x288 with 1 Axes>"
      ]
     },
     "metadata": {
      "needs_background": "light"
     },
     "output_type": "display_data"
    },
    {
     "data": {
      "text/plain": [
       "array([[20.93745845],\n",
       "       [20.93745845],\n",
       "       [20.93745845],\n",
       "       ...,\n",
       "       [20.68345295],\n",
       "       [20.68345295],\n",
       "       [20.68345295]])"
      ]
     },
     "execution_count": 3,
     "metadata": {},
     "output_type": "execute_result"
    }
   ],
   "source": [
    "# package for linear regression models\n",
    "import numpy as np\n",
    "import matplotlib.pyplot as plt\n",
    "import pandas as pd\n",
    "from sklearn.linear_model import LinearRegression\n",
    "\n",
    "data = pd.read_csv('M1_final.csv') # load the data\n",
    "\n",
    "X = data.iloc[:, 0].values.reshape(-1,1) #month\n",
    "Y = data.iloc[:, 22].values.reshape(-1,1) #taxi out\n",
    "\n",
    "linear_regressor = LinearRegression() # create a linear regression object\n",
    "linear_regressor.fit(X, Y) # perform the linear regression\n",
    "\n",
    "Y_pred = linear_regressor.predict(X) # make the predictions based on the model\n",
    "\n",
    "Y_pred\n",
    "\n",
    "#plotting data and predicted variable\n",
    "plt.scatter(X, Y)\n",
    "plt.plot(X, Y_pred, color='red')\n",
    "plt.xlabel(\"Month\")\n",
    "plt.ylabel(\"Taxi out\")\n",
    "plt.show()\n",
    "\n",
    "Y_pred"
   ]
  },
  {
   "cell_type": "code",
   "execution_count": 4,
   "metadata": {},
   "outputs": [
    {
     "data": {
      "image/png": "[encoded data removed]",
      "text/plain": [
       "<Figure size 432x288 with 1 Axes>"
      ]
     },
     "metadata": {
      "needs_background": "light"
     },
     "output_type": "display_data"
    },
    {
     "data": {
      "text/plain": [
       "array([[21.14074895],\n",
       "       [21.14074895],\n",
       "       [21.14074895],\n",
       "       ...,\n",
       "       [20.57718454],\n",
       "       [20.57718454],\n",
       "       [20.57718454]])"
      ]
     },
     "execution_count": 4,
     "metadata": {},
     "output_type": "execute_result"
    }
   ],
   "source": [
    "# package for linear regression models\n",
    "import numpy as np\n",
    "import matplotlib.pyplot as plt\n",
    "import pandas as pd\n",
    "from sklearn.linear_model import LinearRegression\n",
    "\n",
    "data = pd.read_csv('M1_final.csv') # load the data\n",
    "\n",
    "X = data.iloc[:, 1].values.reshape(-1,1) #day of month\n",
    "Y = data.iloc[:, 22].values.reshape(-1,1) #taxi out\n",
    "\n",
    "linear_regressor = LinearRegression() # create a linear regression object\n",
    "linear_regressor.fit(X, Y) # perform the linear regression\n",
    "\n",
    "Y_pred = linear_regressor.predict(X) # make the predictions based on the model\n",
    "\n",
    "Y_pred\n",
    "\n",
    "#plotting data and predicted variable\n",
    "plt.scatter(X, Y)\n",
    "plt.plot(X, Y_pred, color='red')\n",
    "plt.xlabel(\"Day of month\")\n",
    "plt.ylabel(\"Taxi out\")\n",
    "plt.show()\n",
    "\n",
    "Y_pred"
   ]
  },
  {
   "cell_type": "code",
   "execution_count": 10,
   "metadata": {},
   "outputs": [
    {
     "data": {
      "image/png": "[encoded data removed]",
      "text/plain": [
       "<Figure size 432x288 with 1 Axes>"
      ]
     },
     "metadata": {
      "needs_background": "light"
     },
     "output_type": "display_data"
    },
    {
     "data": {
      "text/plain": [
       "array([[20.95567288],\n",
       "       [20.95567288],\n",
       "       [20.95567288],\n",
       "       ...,\n",
       "       [20.95567288],\n",
       "       [20.95567288],\n",
       "       [20.95567288]])"
      ]
     },
     "execution_count": 10,
     "metadata": {},
     "output_type": "execute_result"
    }
   ],
   "source": [
    "# package for linear regression models\n",
    "import numpy as np\n",
    "import matplotlib.pyplot as plt\n",
    "import pandas as pd\n",
    "from sklearn.linear_model import LinearRegression\n",
    "\n",
    "data = pd.read_csv('M1_final.csv') # load the data\n",
    "\n",
    "X = data.iloc[:, 2].values.reshape(-1,1) #day of week\n",
    "Y = data.iloc[:, 22].values.reshape(-1,1) #taxi out\n",
    "\n",
    "linear_regressor = LinearRegression() # create a linear regression object\n",
    "linear_regressor.fit(X, Y) # perform the linear regression\n",
    "\n",
    "Y_pred = linear_regressor.predict(X) # make the predictions based on the model\n",
    "\n",
    "Y_pred\n",
    "\n",
    "#plotting data and predicted variable\n",
    "plt.scatter(X, Y)\n",
    "plt.plot(X, Y_pred, color='red')\n",
    "plt.xlabel(\"Day of week\")\n",
    "plt.ylabel(\"Taxi out\")\n",
    "plt.show()\n",
    "\n",
    "Y_pred"
   ]
  },
  {
   "cell_type": "code",
   "execution_count": 5,
   "metadata": {},
   "outputs": [
    {
     "data": {
      "image/png": "[encoded data removed]",
      "text/plain": [
       "<Figure size 432x288 with 1 Axes>"
      ]
     },
     "metadata": {
      "needs_background": "light"
     },
     "output_type": "display_data"
    },
    {
     "data": {
      "text/plain": [
       "array([[20.81306553],\n",
       "       [20.7760445 ],\n",
       "       [21.06604257],\n",
       "       ...,\n",
       "       [22.56539432],\n",
       "       [20.85008656],\n",
       "       [20.81306553]])"
      ]
     },
     "execution_count": 5,
     "metadata": {},
     "output_type": "execute_result"
    }
   ],
   "source": [
    "# package for linear regression models\n",
    "import numpy as np\n",
    "import matplotlib.pyplot as plt\n",
    "import pandas as pd\n",
    "from sklearn.linear_model import LinearRegression\n",
    "\n",
    "data = pd.read_csv('M1_final.csv') # load our data\n",
    "\n",
    "X = data.iloc[:, 6].values.reshape(-1,1) #departure delay\n",
    "Y = data.iloc[:, 22].values.reshape(-1,1) #taxi out\n",
    "\n",
    "linear_regressor = LinearRegression() # create a linear regression object\n",
    "linear_regressor.fit(X, Y) # perform the linear regression\n",
    "\n",
    "Y_pred = linear_regressor.predict(X) # make the predictions based on the model\n",
    "\n",
    "Y_pred\n",
    "\n",
    "#plotting data and predicted variable\n",
    "plt.scatter(X, Y)\n",
    "plt.plot(X, Y_pred, color='red')\n",
    "plt.xlabel(\"Departure delay\")\n",
    "plt.ylabel(\"taxi out\")\n",
    "plt.show()\n",
    "\n",
    "Y_pred"
   ]
  },
  {
   "cell_type": "code",
   "execution_count": 12,
   "metadata": {},
   "outputs": [
    {
     "data": {
      "image/png": "[encoded data removed]",
      "text/plain": [
       "<Figure size 432x288 with 1 Axes>"
      ]
     },
     "metadata": {
      "needs_background": "light"
     },
     "output_type": "display_data"
    },
    {
     "data": {
      "text/plain": [
       "array([[20.44710258],\n",
       "       [21.45050236],\n",
       "       [20.67865638],\n",
       "       ...,\n",
       "       [21.53581165],\n",
       "       [20.85333731],\n",
       "       [20.85739966]])"
      ]
     },
     "execution_count": 12,
     "metadata": {},
     "output_type": "execute_result"
    }
   ],
   "source": [
    "# package for linear regression models\n",
    "import numpy as np\n",
    "import matplotlib.pyplot as plt\n",
    "import pandas as pd\n",
    "from sklearn.linear_model import LinearRegression\n",
    "\n",
    "data = pd.read_csv('M1_final.csv') # load our data\n",
    "\n",
    "X = data.iloc[:, 7].values.reshape(-1,1) #scheduled duration\n",
    "Y = data.iloc[:, 22].values.reshape(-1,1) #taxi out\n",
    "\n",
    "linear_regressor = LinearRegression() # create a linear regression object\n",
    "linear_regressor.fit(X, Y) # perform the linear regression\n",
    "\n",
    "Y_pred = linear_regressor.predict(X) # make the predictions based on the model\n",
    "\n",
    "Y_pred\n",
    "\n",
    "#plotting data and predicted variable\n",
    "plt.scatter(X, Y)\n",
    "plt.plot(X, Y_pred, color='red')\n",
    "plt.xlabel(\"Scheduled duration\")\n",
    "plt.ylabel(\"taxi out\")\n",
    "plt.show()\n",
    "\n",
    "Y_pred"
   ]
  },
  {
   "cell_type": "code",
   "execution_count": 13,
   "metadata": {},
   "outputs": [
    {
     "data": {
      "image/png": "[encoded data removed]",
      "text/plain": [
       "<Figure size 432x288 with 1 Axes>"
      ]
     },
     "metadata": {
      "needs_background": "light"
     },
     "output_type": "display_data"
    },
    {
     "data": {
      "text/plain": [
       "array([[20.56723447],\n",
       "       [21.41530755],\n",
       "       [20.76691671],\n",
       "       ...,\n",
       "       [21.39086608],\n",
       "       [21.01087031],\n",
       "       [21.00072479]])"
      ]
     },
     "execution_count": 13,
     "metadata": {},
     "output_type": "execute_result"
    }
   ],
   "source": [
    "# package for linear regression models\n",
    "import numpy as np\n",
    "import matplotlib.pyplot as plt\n",
    "import pandas as pd\n",
    "from sklearn.linear_model import LinearRegression\n",
    "\n",
    "data = pd.read_csv('M1_final.csv') # load our data\n",
    "\n",
    "X = data.iloc[:, 8].values.reshape(-1,1) #distance\n",
    "Y = data.iloc[:, 22].values.reshape(-1,1) #taxi out\n",
    "\n",
    "linear_regressor = LinearRegression() # create a linear regression object\n",
    "linear_regressor.fit(X, Y) # perform the linear regression\n",
    "\n",
    "Y_pred = linear_regressor.predict(X) # make the predictions based on the model\n",
    "\n",
    "Y_pred\n",
    "\n",
    "#plotting data and predicted variable\n",
    "plt.scatter(X, Y)\n",
    "plt.plot(X, Y_pred, color='red')\n",
    "plt.xlabel(\"Distance\")\n",
    "plt.ylabel(\"taxi out\")\n",
    "plt.show()\n",
    "\n",
    "Y_pred"
   ]
  },
  {
   "cell_type": "code",
   "execution_count": 14,
   "metadata": {},
   "outputs": [
    {
     "data": {
      "image/png": "[encoded data removed]",
      "text/plain": [
       "<Figure size 432x288 with 1 Axes>"
      ]
     },
     "metadata": {
      "needs_background": "light"
     },
     "output_type": "display_data"
    },
    {
     "data": {
      "text/plain": [
       "array([[20.33800937],\n",
       "       [20.35443721],\n",
       "       [20.31439436],\n",
       "       ...,\n",
       "       [21.160428  ],\n",
       "       [21.46023604],\n",
       "       [21.48282432]])"
      ]
     },
     "execution_count": 14,
     "metadata": {},
     "output_type": "execute_result"
    }
   ],
   "source": [
    "# package for linear regression models\n",
    "import numpy as np\n",
    "import matplotlib.pyplot as plt\n",
    "import pandas as pd\n",
    "from sklearn.linear_model import LinearRegression\n",
    "\n",
    "data = pd.read_csv('M1_final.csv') # load our data\n",
    "\n",
    "X = data.iloc[:, 9].values.reshape(-1,1) #scheduled departure\n",
    "Y = data.iloc[:, 22].values.reshape(-1,1) #taxi out\n",
    "\n",
    "linear_regressor = LinearRegression() # create a linear regression object\n",
    "linear_regressor.fit(X, Y) # perform the linear regression\n",
    "\n",
    "Y_pred = linear_regressor.predict(X) # make the predictions based on the model\n",
    "\n",
    "Y_pred\n",
    "\n",
    "#plotting data and predicted variable\n",
    "plt.scatter(X, Y)\n",
    "plt.plot(X, Y_pred, color='red')\n",
    "plt.xlabel(\"Scheduled departure\")\n",
    "plt.ylabel(\"taxi out\")\n",
    "plt.show()\n",
    "\n",
    "Y_pred"
   ]
  },
  {
   "cell_type": "code",
   "execution_count": 15,
   "metadata": {},
   "outputs": [
    {
     "data": {
      "image/png": "[encoded data removed]",
      "text/plain": [
       "<Figure size 432x288 with 1 Axes>"
      ]
     },
     "metadata": {
      "needs_background": "light"
     },
     "output_type": "display_data"
    },
    {
     "data": {
      "text/plain": [
       "array([[20.20238464],\n",
       "       [20.21535441],\n",
       "       [20.22573023],\n",
       "       ...,\n",
       "       [21.60960497],\n",
       "       [21.62776265],\n",
       "       [21.64851428]])"
      ]
     },
     "execution_count": 15,
     "metadata": {},
     "output_type": "execute_result"
    }
   ],
   "source": [
    "# package for linear regression models\n",
    "import numpy as np\n",
    "import matplotlib.pyplot as plt\n",
    "import pandas as pd\n",
    "from sklearn.linear_model import LinearRegression\n",
    "\n",
    "data = pd.read_csv('M1_final.csv') # load our data\n",
    "\n",
    "X = data.iloc[:, 10].values.reshape(-1,1) #actual departure time\n",
    "Y = data.iloc[:, 22].values.reshape(-1,1) #taxi out\n",
    "\n",
    "linear_regressor = LinearRegression() # create a linear regression object\n",
    "linear_regressor.fit(X, Y) # perform the linear regression\n",
    "\n",
    "Y_pred = linear_regressor.predict(X) # make the predictions based on the model\n",
    "\n",
    "Y_pred\n",
    "\n",
    "#plotting data and predicted variable\n",
    "plt.scatter(X, Y)\n",
    "plt.plot(X, Y_pred, color='red')\n",
    "plt.xlabel(\"Actual departure time\")\n",
    "plt.ylabel(\"taxi out\")\n",
    "plt.show()\n",
    "\n",
    "Y_pred"
   ]
  },
  {
   "cell_type": "code",
   "execution_count": 16,
   "metadata": {},
   "outputs": [
    {
     "data": {
      "image/png": "[encoded data removed]",
      "text/plain": [
       "<Figure size 432x288 with 1 Axes>"
      ]
     },
     "metadata": {
      "needs_background": "light"
     },
     "output_type": "display_data"
    },
    {
     "data": {
      "text/plain": [
       "array([[20.2031897 ],\n",
       "       [20.32070886],\n",
       "       [20.25133008],\n",
       "       ...,\n",
       "       [21.4619191 ],\n",
       "       [19.93841759],\n",
       "       [19.97098315]])"
      ]
     },
     "execution_count": 16,
     "metadata": {},
     "output_type": "execute_result"
    }
   ],
   "source": [
    "# package for linear regression models\n",
    "import numpy as np\n",
    "import matplotlib.pyplot as plt\n",
    "import pandas as pd\n",
    "from sklearn.linear_model import LinearRegression\n",
    "\n",
    "data = pd.read_csv('M1_final.csv') # load our data\n",
    "\n",
    "X = data.iloc[:, 11].values.reshape(-1,1) #scheduled arrival\n",
    "Y = data.iloc[:, 22].values.reshape(-1,1) #taxi out\n",
    "\n",
    "linear_regressor = LinearRegression() # create a linear regression object\n",
    "linear_regressor.fit(X, Y) # perform the linear regression\n",
    "\n",
    "Y_pred = linear_regressor.predict(X) # make the predictions based on the model\n",
    "\n",
    "Y_pred\n",
    "\n",
    "#plotting data and predicted variable\n",
    "plt.scatter(X, Y)\n",
    "plt.plot(X, Y_pred, color='red')\n",
    "plt.xlabel(\"Scheduled arrival\")\n",
    "plt.ylabel(\"taxi out\")\n",
    "plt.show()\n",
    "\n",
    "Y_pred"
   ]
  },
  {
   "cell_type": "code",
   "execution_count": 17,
   "metadata": {},
   "outputs": [
    {
     "data": {
      "image/png": "[encoded data removed]",
      "text/plain": [
       "<Figure size 432x288 with 1 Axes>"
      ]
     },
     "metadata": {
      "needs_background": "light"
     },
     "output_type": "display_data"
    },
    {
     "data": {
      "text/plain": [
       "array([[20.4838268 ],\n",
       "       [20.4838268 ],\n",
       "       [20.4838268 ],\n",
       "       ...,\n",
       "       [21.00189231],\n",
       "       [21.00189231],\n",
       "       [21.00189231]])"
      ]
     },
     "execution_count": 17,
     "metadata": {},
     "output_type": "execute_result"
    }
   ],
   "source": [
    "# package for linear regression models\n",
    "import numpy as np\n",
    "import matplotlib.pyplot as plt\n",
    "import pandas as pd\n",
    "from sklearn.linear_model import LinearRegression\n",
    "\n",
    "data = pd.read_csv('M1_final.csv') # load our data\n",
    "\n",
    "X = data.iloc[:, 12].values.reshape(-1,1) #temperature\n",
    "Y = data.iloc[:, 22].values.reshape(-1,1) #taxi out\n",
    "\n",
    "linear_regressor = LinearRegression() # create a linear regression object\n",
    "linear_regressor.fit(X, Y) # perform the linear regression\n",
    "\n",
    "Y_pred = linear_regressor.predict(X) # make the predictions based on the model\n",
    "\n",
    "Y_pred\n",
    "\n",
    "#plotting data and predicted variable\n",
    "plt.scatter(X, Y)\n",
    "plt.plot(X, Y_pred, color='red')\n",
    "plt.xlabel(\"Temperature\")\n",
    "plt.ylabel(\"taxi out\")\n",
    "plt.show()\n",
    "\n",
    "Y_pred"
   ]
  },
  {
   "cell_type": "code",
   "execution_count": 18,
   "metadata": {},
   "outputs": [
    {
     "data": {
      "image/png": "[encoded data removed]",
      "text/plain": [
       "<Figure size 432x288 with 1 Axes>"
      ]
     },
     "metadata": {
      "needs_background": "light"
     },
     "output_type": "display_data"
    },
    {
     "data": {
      "text/plain": [
       "array([[20.85647625],\n",
       "       [20.85647625],\n",
       "       [20.85647625],\n",
       "       ...,\n",
       "       [20.55885461],\n",
       "       [20.55885461],\n",
       "       [20.55885461]])"
      ]
     },
     "execution_count": 18,
     "metadata": {},
     "output_type": "execute_result"
    }
   ],
   "source": [
    "# package for linear regression models\n",
    "import numpy as np\n",
    "import matplotlib.pyplot as plt\n",
    "import pandas as pd\n",
    "from sklearn.linear_model import LinearRegression\n",
    "\n",
    "data = pd.read_csv('M1_final.csv') # load our data\n",
    "\n",
    "X = data.iloc[:, 14].values.reshape(-1,1) #humidity\n",
    "Y = data.iloc[:, 22].values.reshape(-1,1) #taxi out\n",
    "\n",
    "linear_regressor = LinearRegression() # create a linear regression object\n",
    "linear_regressor.fit(X, Y) # perform the linear regression\n",
    "\n",
    "Y_pred = linear_regressor.predict(X) # make the predictions based on the model\n",
    "\n",
    "Y_pred\n",
    "\n",
    "#plotting data and predicted variable\n",
    "plt.scatter(X, Y)\n",
    "plt.plot(X, Y_pred, color='red')\n",
    "plt.xlabel(\"Humidity\")\n",
    "plt.ylabel(\"Taxi out\")\n",
    "plt.show()\n",
    "\n",
    "Y_pred"
   ]
  },
  {
   "cell_type": "code",
   "execution_count": 6,
   "metadata": {},
   "outputs": [
    {
     "data": {
      "image/png": "[encoded data removed]",
      "text/plain": [
       "<Figure size 432x288 with 1 Axes>"
      ]
     },
     "metadata": {
      "needs_background": "light"
     },
     "output_type": "display_data"
    },
    {
     "data": {
      "text/plain": [
       "array([[21.72315528],\n",
       "       [21.72315528],\n",
       "       [21.72315528],\n",
       "       ...,\n",
       "       [20.42275736],\n",
       "       [20.42275736],\n",
       "       [20.42275736]])"
      ]
     },
     "execution_count": 6,
     "metadata": {},
     "output_type": "execute_result"
    }
   ],
   "source": [
    "# package for linear regression models\n",
    "import numpy as np\n",
    "import matplotlib.pyplot as plt\n",
    "import pandas as pd\n",
    "from sklearn.linear_model import LinearRegression\n",
    "\n",
    "data = pd.read_csv('M1_final.csv') # load our data\n",
    "\n",
    "X = data.iloc[:, 16].values.reshape(-1,1) #wind speed\n",
    "Y = data.iloc[:, 22].values.reshape(-1,1) #taxi out\n",
    "\n",
    "linear_regressor = LinearRegression() # create a linear regression object\n",
    "linear_regressor.fit(X, Y) # perform the linear regression\n",
    "\n",
    "Y_pred = linear_regressor.predict(X) # make the predictions based on the model\n",
    "\n",
    "Y_pred\n",
    "\n",
    "#plotting data and predicted variable\n",
    "plt.scatter(X, Y)\n",
    "plt.plot(X, Y_pred, color='red')\n",
    "plt.xlabel(\"Wind speed\")\n",
    "plt.ylabel(\"taxi out\")\n",
    "plt.show()\n",
    "\n",
    "Y_pred"
   ]
  },
  {
   "cell_type": "code",
   "execution_count": 19,
   "metadata": {},
   "outputs": [
    {
     "data": {
      "image/png": "[encoded data removed]",
      "text/plain": [
       "<Figure size 432x288 with 1 Axes>"
      ]
     },
     "metadata": {
      "needs_background": "light"
     },
     "output_type": "display_data"
    },
    {
     "data": {
      "text/plain": [
       "array([[22.64845189],\n",
       "       [22.64845189],\n",
       "       [22.64845189],\n",
       "       ...,\n",
       "       [20.5533904 ],\n",
       "       [20.5533904 ],\n",
       "       [20.5533904 ]])"
      ]
     },
     "execution_count": 19,
     "metadata": {},
     "output_type": "execute_result"
    }
   ],
   "source": [
    "# package for linear regression models\n",
    "import numpy as np\n",
    "import matplotlib.pyplot as plt\n",
    "import pandas as pd\n",
    "from sklearn.linear_model import LinearRegression\n",
    "\n",
    "data = pd.read_csv('M1_final.csv') # load our data\n",
    "\n",
    "X = data.iloc[:, 17].values.reshape(-1,1) #wind gust\n",
    "Y = data.iloc[:, 22].values.reshape(-1,1) #taxi out\n",
    "\n",
    "linear_regressor = LinearRegression() # create a linear regression object\n",
    "linear_regressor.fit(X, Y) # perform the linear regression\n",
    "\n",
    "Y_pred = linear_regressor.predict(X) # make the predictions based on the model\n",
    "\n",
    "Y_pred\n",
    "\n",
    "#plotting data and predicted variable\n",
    "plt.scatter(X, Y)\n",
    "plt.plot(X, Y_pred, color='red')\n",
    "plt.xlabel(\"Wind Gust\")\n",
    "plt.ylabel(\"Taxi out\")\n",
    "plt.show()\n",
    "\n",
    "Y_pred"
   ]
  },
  {
   "cell_type": "code",
   "execution_count": 20,
   "metadata": {},
   "outputs": [
    {
     "data": {
      "image/png": "[encoded data removed]",
      "text/plain": [
       "<Figure size 432x288 with 1 Axes>"
      ]
     },
     "metadata": {
      "needs_background": "light"
     },
     "output_type": "display_data"
    },
    {
     "data": {
      "text/plain": [
       "array([[21.17740497],\n",
       "       [21.17740497],\n",
       "       [21.17740497],\n",
       "       ...,\n",
       "       [20.73845251],\n",
       "       [20.73845251],\n",
       "       [20.73845251]])"
      ]
     },
     "execution_count": 20,
     "metadata": {},
     "output_type": "execute_result"
    }
   ],
   "source": [
    "# package for linear regression models\n",
    "import numpy as np\n",
    "import matplotlib.pyplot as plt\n",
    "import pandas as pd\n",
    "from sklearn.linear_model import LinearRegression\n",
    "\n",
    "data = pd.read_csv('M1_final.csv') # load our data\n",
    "\n",
    "X = data.iloc[:, 18].values.reshape(-1,1) #pressure\n",
    "Y = data.iloc[:, 22].values.reshape(-1,1) #taxi out\n",
    "\n",
    "linear_regressor = LinearRegression() # create a linear regression object\n",
    "linear_regressor.fit(X, Y) # perform the linear regression\n",
    "\n",
    "Y_pred = linear_regressor.predict(X) # make the predictions based on the model\n",
    "\n",
    "Y_pred\n",
    "\n",
    "#plotting data and predicted variable\n",
    "plt.scatter(X, Y)\n",
    "plt.plot(X, Y_pred, color='red')\n",
    "plt.xlabel(\"Pressure\")\n",
    "plt.ylabel(\"taxi out\")\n",
    "plt.show()\n",
    "\n",
    "Y_pred"
   ]
  },
  {
   "cell_type": "code",
   "execution_count": 21,
   "metadata": {},
   "outputs": [
    {
     "data": {
      "image/png": "[encoded data removed]",
      "text/plain": [
       "<Figure size 432x288 with 1 Axes>"
      ]
     },
     "metadata": {
      "needs_background": "light"
     },
     "output_type": "display_data"
    },
    {
     "data": {
      "text/plain": [
       "array([[17.83290629],\n",
       "       [17.83290629],\n",
       "       [17.83290629],\n",
       "       ...,\n",
       "       [19.20252699],\n",
       "       [19.20252699],\n",
       "       [19.20252699]])"
      ]
     },
     "execution_count": 21,
     "metadata": {},
     "output_type": "execute_result"
    }
   ],
   "source": [
    "# package for linear regression models\n",
    "import numpy as np\n",
    "import matplotlib.pyplot as plt\n",
    "import pandas as pd\n",
    "from sklearn.linear_model import LinearRegression\n",
    "\n",
    "data = pd.read_csv('M1_final.csv') # load our data\n",
    "\n",
    "X = data.iloc[:, 20].values.reshape(-1,1) # flight schedule arrival\n",
    "Y = data.iloc[:, 22].values.reshape(-1,1) #taxi out\n",
    "\n",
    "linear_regressor = LinearRegression() # create a linear regression object\n",
    "linear_regressor.fit(X, Y) # perform the linear regression\n",
    "\n",
    "Y_pred = linear_regressor.predict(X) # make the predictions based on the model\n",
    "\n",
    "Y_pred\n",
    "\n",
    "#plotting data and predicted variable\n",
    "plt.scatter(X, Y)\n",
    "plt.plot(X, Y_pred, color='red')\n",
    "plt.xlabel(\"Flight schedule arrival\")\n",
    "plt.ylabel(\"taxi out\")\n",
    "plt.show()\n",
    "\n",
    "Y_pred"
   ]
  },
  {
   "cell_type": "code",
   "execution_count": 22,
   "metadata": {},
   "outputs": [
    {
     "data": {
      "image/png": "[encoded data removed]",
      "text/plain": [
       "<Figure size 432x288 with 1 Axes>"
      ]
     },
     "metadata": {
      "needs_background": "light"
     },
     "output_type": "display_data"
    },
    {
     "data": {
      "text/plain": [
       "array([[20.24916851],\n",
       "       [20.24916851],\n",
       "       [20.24916851],\n",
       "       ...,\n",
       "       [20.56900492],\n",
       "       [20.56900492],\n",
       "       [20.56900492]])"
      ]
     },
     "execution_count": 22,
     "metadata": {},
     "output_type": "execute_result"
    }
   ],
   "source": [
    "# package for linear regression models\n",
    "import numpy as np\n",
    "import matplotlib.pyplot as plt\n",
    "import pandas as pd\n",
    "from sklearn.linear_model import LinearRegression\n",
    "\n",
    "data = pd.read_csv('M1_final.csv') # load our data\n",
    "\n",
    "X = data.iloc[:, 21].values.reshape(-1,1) #flight schedule departure\n",
    "Y = data.iloc[:, 22].values.reshape(-1,1) #taxi out\n",
    "\n",
    "linear_regressor = LinearRegression() # create a linear regression object\n",
    "linear_regressor.fit(X, Y) # perform the linear regression\n",
    "\n",
    "Y_pred = linear_regressor.predict(X) # make the predictions based on the model\n",
    "\n",
    "Y_pred\n",
    "\n",
    "#plotting data and predicted variable\n",
    "plt.scatter(X, Y)\n",
    "plt.plot(X, Y_pred, color='red')\n",
    "plt.xlabel(\"Flight schedule departure\")\n",
    "plt.ylabel(\"taxi out\")\n",
    "plt.show()\n",
    "\n",
    "Y_pred"
   ]
  },
  {
   "cell_type": "code",
   "execution_count": 7,
   "metadata": {},
   "outputs": [
    {
     "data": {
      "text/html": [
       "<div>\n",
       "<style scoped>\n",
       "    .dataframe tbody tr th:only-of-type {\n",
       "        vertical-align: middle;\n",
       "    }\n",
       "\n",
       "    .dataframe tbody tr th {\n",
       "        vertical-align: top;\n",
       "    }\n",
       "\n",
       "    .dataframe thead th {\n",
       "        text-align: right;\n",
       "    }\n",
       "</style>\n",
       "<table border=\"1\" class=\"dataframe\">\n",
       "  <thead>\n",
       "    <tr style=\"text-align: right;\">\n",
       "      <th></th>\n",
       "      <th>MONTH</th>\n",
       "      <th>DAY_OF_MONTH</th>\n",
       "      <th>DAY_OF_WEEK</th>\n",
       "      <th>DEP_DELAY</th>\n",
       "      <th>CRS_ELAPSED_TIME</th>\n",
       "      <th>DISTANCE</th>\n",
       "      <th>CRS_DEP_M</th>\n",
       "      <th>DEP_TIME_M</th>\n",
       "      <th>CRS_ARR_M</th>\n",
       "      <th>Temperature</th>\n",
       "      <th>Humidity</th>\n",
       "      <th>Wind Speed</th>\n",
       "      <th>Wind Gust</th>\n",
       "      <th>Pressure</th>\n",
       "      <th>sch_dep</th>\n",
       "      <th>sch_arr</th>\n",
       "    </tr>\n",
       "  </thead>\n",
       "  <tbody>\n",
       "    <tr>\n",
       "      <th>0</th>\n",
       "      <td>11</td>\n",
       "      <td>1</td>\n",
       "      <td>5</td>\n",
       "      <td>-1</td>\n",
       "      <td>124</td>\n",
       "      <td>636</td>\n",
       "      <td>324</td>\n",
       "      <td>323</td>\n",
       "      <td>448</td>\n",
       "      <td>48</td>\n",
       "      <td>58</td>\n",
       "      <td>25</td>\n",
       "      <td>38</td>\n",
       "      <td>29.86</td>\n",
       "      <td>9</td>\n",
       "      <td>17</td>\n",
       "    </tr>\n",
       "    <tr>\n",
       "      <th>1</th>\n",
       "      <td>11</td>\n",
       "      <td>1</td>\n",
       "      <td>5</td>\n",
       "      <td>-7</td>\n",
       "      <td>371</td>\n",
       "      <td>2475</td>\n",
       "      <td>340</td>\n",
       "      <td>333</td>\n",
       "      <td>531</td>\n",
       "      <td>48</td>\n",
       "      <td>58</td>\n",
       "      <td>25</td>\n",
       "      <td>38</td>\n",
       "      <td>29.86</td>\n",
       "      <td>9</td>\n",
       "      <td>17</td>\n",
       "    </tr>\n",
       "    <tr>\n",
       "      <th>2</th>\n",
       "      <td>11</td>\n",
       "      <td>1</td>\n",
       "      <td>5</td>\n",
       "      <td>40</td>\n",
       "      <td>181</td>\n",
       "      <td>1069</td>\n",
       "      <td>301</td>\n",
       "      <td>341</td>\n",
       "      <td>482</td>\n",
       "      <td>48</td>\n",
       "      <td>58</td>\n",
       "      <td>25</td>\n",
       "      <td>38</td>\n",
       "      <td>29.86</td>\n",
       "      <td>9</td>\n",
       "      <td>17</td>\n",
       "    </tr>\n",
       "    <tr>\n",
       "      <th>3</th>\n",
       "      <td>11</td>\n",
       "      <td>1</td>\n",
       "      <td>5</td>\n",
       "      <td>-2</td>\n",
       "      <td>168</td>\n",
       "      <td>944</td>\n",
       "      <td>345</td>\n",
       "      <td>343</td>\n",
       "      <td>513</td>\n",
       "      <td>48</td>\n",
       "      <td>58</td>\n",
       "      <td>25</td>\n",
       "      <td>38</td>\n",
       "      <td>29.86</td>\n",
       "      <td>9</td>\n",
       "      <td>17</td>\n",
       "    </tr>\n",
       "    <tr>\n",
       "      <th>4</th>\n",
       "      <td>11</td>\n",
       "      <td>1</td>\n",
       "      <td>5</td>\n",
       "      <td>-4</td>\n",
       "      <td>139</td>\n",
       "      <td>760</td>\n",
       "      <td>360</td>\n",
       "      <td>356</td>\n",
       "      <td>499</td>\n",
       "      <td>46</td>\n",
       "      <td>58</td>\n",
       "      <td>24</td>\n",
       "      <td>35</td>\n",
       "      <td>29.91</td>\n",
       "      <td>9</td>\n",
       "      <td>17</td>\n",
       "    </tr>\n",
       "    <tr>\n",
       "      <th>...</th>\n",
       "      <td>...</td>\n",
       "      <td>...</td>\n",
       "      <td>...</td>\n",
       "      <td>...</td>\n",
       "      <td>...</td>\n",
       "      <td>...</td>\n",
       "      <td>...</td>\n",
       "      <td>...</td>\n",
       "      <td>...</td>\n",
       "      <td>...</td>\n",
       "      <td>...</td>\n",
       "      <td>...</td>\n",
       "      <td>...</td>\n",
       "      <td>...</td>\n",
       "      <td>...</td>\n",
       "      <td>...</td>\n",
       "    </tr>\n",
       "    <tr>\n",
       "      <th>28815</th>\n",
       "      <td>1</td>\n",
       "      <td>31</td>\n",
       "      <td>5</td>\n",
       "      <td>2</td>\n",
       "      <td>57</td>\n",
       "      <td>150</td>\n",
       "      <td>1370</td>\n",
       "      <td>1372</td>\n",
       "      <td>1427</td>\n",
       "      <td>39</td>\n",
       "      <td>96</td>\n",
       "      <td>6</td>\n",
       "      <td>0</td>\n",
       "      <td>30.18</td>\n",
       "      <td>20</td>\n",
       "      <td>32</td>\n",
       "    </tr>\n",
       "    <tr>\n",
       "      <th>28816</th>\n",
       "      <td>1</td>\n",
       "      <td>31</td>\n",
       "      <td>5</td>\n",
       "      <td>2</td>\n",
       "      <td>75</td>\n",
       "      <td>187</td>\n",
       "      <td>1390</td>\n",
       "      <td>1392</td>\n",
       "      <td>25</td>\n",
       "      <td>39</td>\n",
       "      <td>96</td>\n",
       "      <td>6</td>\n",
       "      <td>0</td>\n",
       "      <td>30.18</td>\n",
       "      <td>19</td>\n",
       "      <td>23</td>\n",
       "    </tr>\n",
       "    <tr>\n",
       "      <th>28817</th>\n",
       "      <td>1</td>\n",
       "      <td>31</td>\n",
       "      <td>5</td>\n",
       "      <td>283</td>\n",
       "      <td>392</td>\n",
       "      <td>2422</td>\n",
       "      <td>1125</td>\n",
       "      <td>1408</td>\n",
       "      <td>1337</td>\n",
       "      <td>39</td>\n",
       "      <td>96</td>\n",
       "      <td>6</td>\n",
       "      <td>0</td>\n",
       "      <td>30.18</td>\n",
       "      <td>19</td>\n",
       "      <td>23</td>\n",
       "    </tr>\n",
       "    <tr>\n",
       "      <th>28818</th>\n",
       "      <td>1</td>\n",
       "      <td>31</td>\n",
       "      <td>5</td>\n",
       "      <td>5</td>\n",
       "      <td>224</td>\n",
       "      <td>1598</td>\n",
       "      <td>1417</td>\n",
       "      <td>1422</td>\n",
       "      <td>261</td>\n",
       "      <td>39</td>\n",
       "      <td>96</td>\n",
       "      <td>6</td>\n",
       "      <td>0</td>\n",
       "      <td>30.18</td>\n",
       "      <td>19</td>\n",
       "      <td>23</td>\n",
       "    </tr>\n",
       "    <tr>\n",
       "      <th>28819</th>\n",
       "      <td>1</td>\n",
       "      <td>31</td>\n",
       "      <td>5</td>\n",
       "      <td>-1</td>\n",
       "      <td>225</td>\n",
       "      <td>1576</td>\n",
       "      <td>1439</td>\n",
       "      <td>1438</td>\n",
       "      <td>284</td>\n",
       "      <td>39</td>\n",
       "      <td>96</td>\n",
       "      <td>6</td>\n",
       "      <td>0</td>\n",
       "      <td>30.18</td>\n",
       "      <td>19</td>\n",
       "      <td>23</td>\n",
       "    </tr>\n",
       "  </tbody>\n",
       "</table>\n",
       "<p>28820 rows × 16 columns</p>\n",
       "</div>"
      ],
      "text/plain": [
       "       MONTH  DAY_OF_MONTH  DAY_OF_WEEK  DEP_DELAY  CRS_ELAPSED_TIME  \\\n",
       "0         11             1            5         -1               124   \n",
       "1         11             1            5         -7               371   \n",
       "2         11             1            5         40               181   \n",
       "3         11             1            5         -2               168   \n",
       "4         11             1            5         -4               139   \n",
       "...      ...           ...          ...        ...               ...   \n",
       "28815      1            31            5          2                57   \n",
       "28816      1            31            5          2                75   \n",
       "28817      1            31            5        283               392   \n",
       "28818      1            31            5          5               224   \n",
       "28819      1            31            5         -1               225   \n",
       "\n",
       "       DISTANCE  CRS_DEP_M  DEP_TIME_M  CRS_ARR_M  Temperature  Humidity  \\\n",
       "0           636        324         323        448           48        58   \n",
       "1          2475        340         333        531           48        58   \n",
       "2          1069        301         341        482           48        58   \n",
       "3           944        345         343        513           48        58   \n",
       "4           760        360         356        499           46        58   \n",
       "...         ...        ...         ...        ...          ...       ...   \n",
       "28815       150       1370        1372       1427           39        96   \n",
       "28816       187       1390        1392         25           39        96   \n",
       "28817      2422       1125        1408       1337           39        96   \n",
       "28818      1598       1417        1422        261           39        96   \n",
       "28819      1576       1439        1438        284           39        96   \n",
       "\n",
       "       Wind Speed  Wind Gust  Pressure  sch_dep  sch_arr  \n",
       "0              25         38     29.86        9       17  \n",
       "1              25         38     29.86        9       17  \n",
       "2              25         38     29.86        9       17  \n",
       "3              25         38     29.86        9       17  \n",
       "4              24         35     29.91        9       17  \n",
       "...           ...        ...       ...      ...      ...  \n",
       "28815           6          0     30.18       20       32  \n",
       "28816           6          0     30.18       19       23  \n",
       "28817           6          0     30.18       19       23  \n",
       "28818           6          0     30.18       19       23  \n",
       "28819           6          0     30.18       19       23  \n",
       "\n",
       "[28820 rows x 16 columns]"
      ]
     },
     "execution_count": 7,
     "metadata": {},
     "output_type": "execute_result"
    }
   ],
   "source": [
    "import numpy as np\n",
    "import pandas as pd\n",
    "from sklearn.linear_model import Lasso\n",
    "from sklearn.linear_model import Ridge\n",
    "\n",
    "data = pd.read_csv('M1_final.csv') # load our data\n",
    "\n",
    "X = data.iloc[:, [0,1,2,6,7,8,9,10,11,12,14,16,17,18,20,21]] #new dataset without objects\n",
    "Y = data.iloc[:, 22] #taxi out\n",
    "\n",
    "X"
   ]
  },
  {
   "cell_type": "code",
   "execution_count": 8,
   "metadata": {},
   "outputs": [
    {
     "name": "stderr",
     "output_type": "stream",
     "text": [
      "/home/crimarin007/.local/lib/python3.9/site-packages/sklearn/linear_model/_coordinate_descent.py:648: ConvergenceWarning: Objective did not converge. You might want to increase the number of iterations, check the scale of the features or consider increasing regularisation. Duality gap: 5.819e+02, tolerance: 1.353e+02\n",
      "  model = cd_fast.enet_coordinate_descent(\n"
     ]
    },
    {
     "data": {
      "text/plain": [
       "MONTH                   1\n",
       "DAY_OF_MONTH           31\n",
       "DAY_OF_WEEK             5\n",
       "DEP_DELAY              -1\n",
       "CRS_ELAPSED_TIME      225\n",
       "DISTANCE             1576\n",
       "CRS_DEP_M            1439\n",
       "DEP_TIME_M           1438\n",
       "CRS_ARR_M             284\n",
       "Temperature            39\n",
       "Humidity               96\n",
       "Wind Speed              6\n",
       "Wind Gust               0\n",
       "Pressure            30.18\n",
       "sch_dep                19\n",
       "sch_arr                23\n",
       "Name: 28819, dtype: object"
      ]
     },
     "execution_count": 8,
     "metadata": {},
     "output_type": "execute_result"
    }
   ],
   "source": [
    "# package for linear regression models\n",
    "import numpy as np\n",
    "import pandas as pd\n",
    "from sklearn.linear_model import Lasso\n",
    "from sklearn.linear_model import Ridge\n",
    "\n",
    "data = pd.read_csv('M1_final.csv') # load our data\n",
    "\n",
    "X = data.iloc[:-1, [0,1,2,6,7,8,9,10,11,12,14,16,17,18,20,21]] #new dataset without objects\n",
    "Y = data.iloc[:-1, 22] #taxi out\n",
    "\n",
    "#define models\n",
    "model_lasso = Lasso(alpha=0.01)\n",
    "model_ridge = Ridge(alpha=0.01)\n",
    "\n",
    "#fit models\n",
    "model_lasso.fit(X,Y)\n",
    "model_ridge.fit(X,Y)\n",
    "\n",
    "#define new data to predict\n",
    "new = data.iloc[-1, [0,1,2,6,7,8,9,10,11,12,14,16,17,18,20,21]]\n",
    "new\n"
   ]
  },
  {
   "cell_type": "code",
   "execution_count": 9,
   "metadata": {},
   "outputs": [
    {
     "name": "stderr",
     "output_type": "stream",
     "text": [
      "/home/crimarin007/.local/lib/python3.9/site-packages/sklearn/linear_model/_coordinate_descent.py:648: ConvergenceWarning: Objective did not converge. You might want to increase the number of iterations, check the scale of the features or consider increasing regularisation. Duality gap: 5.819e+02, tolerance: 1.353e+02\n",
      "  model = cd_fast.enet_coordinate_descent(\n"
     ]
    },
    {
     "name": "stdout",
     "output_type": "stream",
     "text": [
      "Actual taxi out value is 15.000\n",
      "Predicted: 17.413\n",
      "Predicted: 17.418\n"
     ]
    },
    {
     "name": "stderr",
     "output_type": "stream",
     "text": [
      "/home/crimarin007/.local/lib/python3.9/site-packages/sklearn/base.py:450: UserWarning: X does not have valid feature names, but Lasso was fitted with feature names\n",
      "  warnings.warn(\n",
      "/home/crimarin007/.local/lib/python3.9/site-packages/sklearn/base.py:450: UserWarning: X does not have valid feature names, but Ridge was fitted with feature names\n",
      "  warnings.warn(\n"
     ]
    }
   ],
   "source": [
    "# package for linear regression models\n",
    "import numpy as np\n",
    "import pandas as pd\n",
    "from sklearn.linear_model import Lasso\n",
    "from sklearn.linear_model import Ridge\n",
    "\n",
    "data = pd.read_csv('M1_final.csv') # load our data\n",
    "\n",
    "X = data.iloc[:-1, [0,1,2,6,7,8,9,10,11,12,14,16,17,18,20,21]]\n",
    "Y = data.iloc[:-1, 22] #taxi out\n",
    "\n",
    "#define models\n",
    "model_lasso = Lasso(alpha=0.01)\n",
    "model_ridge = Ridge(alpha=0.01)\n",
    "\n",
    "#fit models\n",
    "model_lasso.fit(X,Y)\n",
    "model_ridge.fit(X,Y)\n",
    "\n",
    "#define new data to predict\n",
    "new = data.iloc[-1, [0,1,2,6,7,8,9,10,11,12,14,16,17,18,20,21]]\n",
    "\n",
    "#make predictions\n",
    "prediction_lasso = model_lasso.predict([new])\n",
    "prediction_ridge = model_ridge.predict([new])\n",
    "\n",
    "#sumarize predictions\n",
    "print(\"Actual taxi out value is %.3f\" % data.iloc[-1,-1])\n",
    "print(\"Predicted: %.3f\" % prediction_lasso)\n",
    "print(\"Predicted: %.3f\" % prediction_ridge)"
   ]
  }
 ],
 "metadata": {
  "interpreter": {
   "hash": "916dbcbb3f70747c44a77c7bcd40155683ae19c65e1c03b4aa3499c5328201f1"
  },
  "kernelspec": {
   "display_name": "Python 3.9.2 64-bit",
   "language": "python",
   "name": "python3"
  },
  "language_info": {
   "codemirror_mode": {
    "name": "ipython",
    "version": 3
   },
   "file_extension": ".py",
   "mimetype": "text/x-python",
   "name": "python",
   "nbconvert_exporter": "python",
   "pygments_lexer": "ipython3",
   "version": "3.9.2"
  },
  "orig_nbformat": 4
 },
 "nbformat": 4,
 "nbformat_minor": 2
}
