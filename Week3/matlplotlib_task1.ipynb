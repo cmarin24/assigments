{
 "cells": [
  {
   "cell_type": "code",
   "execution_count": 3,
   "metadata": {},
   "outputs": [
    {
     "name": "stdout",
     "output_type": "stream",
     "text": [
      "[0 1 2 3 4 5]\n"
     ]
    },
    {
     "ename": "NameError",
     "evalue": "name 'xlabel' is not defined",
     "output_type": "error",
     "traceback": [
      "\u001b[0;31m---------------------------------------------------------------------------\u001b[0m",
      "\u001b[0;31mNameError\u001b[0m                                 Traceback (most recent call last)",
      "\u001b[1;32m/home/crimarin007/Data science bootcamp/Week3/matlplotlib_task1.ipynb Cell 1'\u001b[0m in \u001b[0;36m<cell line: 17>\u001b[0;34m()\u001b[0m\n\u001b[1;32m     <a href='vscode-notebook-cell:/home/crimarin007/Data%20science%20bootcamp/Week3/matlplotlib_task1.ipynb#ch0000000?line=12'>13</a>\u001b[0m s2bars \u001b[39m=\u001b[39m ax\u001b[39m.\u001b[39mbar(x \u001b[39m+\u001b[39m width\u001b[39m/\u001b[39m\u001b[39m2\u001b[39m, studB, width)\n\u001b[1;32m     <a href='vscode-notebook-cell:/home/crimarin007/Data%20science%20bootcamp/Week3/matlplotlib_task1.ipynb#ch0000000?line=14'>15</a>\u001b[0m ax\u001b[39m.\u001b[39mset_ylim([\u001b[39m0\u001b[39m,\u001b[39m100\u001b[39m])\n\u001b[0;32m---> <a href='vscode-notebook-cell:/home/crimarin007/Data%20science%20bootcamp/Week3/matlplotlib_task1.ipynb#ch0000000?line=16'>17</a>\u001b[0m ax\u001b[39m.\u001b[39mset_xlabel(xlabel, studA)\n",
      "\u001b[0;31mNameError\u001b[0m: name 'xlabel' is not defined"
     ]
    },
    {
     "data": {
      "image/png": "[encoded data removed]",
      "text/plain": [
       "<Figure size 432x288 with 1 Axes>"
      ]
     },
     "metadata": {
      "needs_background": "light"
     },
     "output_type": "display_data"
    }
   ],
   "source": [
    "import numpy as np\n",
    "import matplotlib.pyplot as plt\n",
    "\n",
    "studA = np.array([65,50,80, 94, 67, 100])\n",
    "studB = np.array([89,50,66, 89, 78, 100])\n",
    "\n",
    "x = np.arange(len(studA))\n",
    "print(x)\n",
    "\n",
    "fig, ax = plt.subplots()\n",
    "width = .3\n",
    "s1bars = ax.bar(x - width/2 , studA, width)\n",
    "s2bars = ax.bar(x + width/2, studB, width)\n",
    "\n",
    "ax.set_ylim([0,100])\n",
    "\n",
    "ax.set_xlabel(\"Exercises\")\n",
    "ax.set_ylabel(\"Grade (%)\")\n",
    "\n",
    "ax.set_xticklabels([0,1,2,3,4,5,6])\n",
    "ax.legend()\n",
    "plt.show()\n",
    "\n"
   ]
  },
  {
   "cell_type": "code",
   "execution_count": null,
   "metadata": {},
   "outputs": [],
   "source": []
  }
 ],
 "metadata": {
  "interpreter": {
   "hash": "916dbcbb3f70747c44a77c7bcd40155683ae19c65e1c03b4aa3499c5328201f1"
  },
  "kernelspec": {
   "display_name": "Python 3.9.2 64-bit",
   "language": "python",
   "name": "python3"
  },
  "language_info": {
   "codemirror_mode": {
    "name": "ipython",
    "version": 3
   },
   "file_extension": ".py",
   "mimetype": "text/x-python",
   "name": "python",
   "nbconvert_exporter": "python",
   "pygments_lexer": "ipython3",
   "version": "3.9.2"
  },
  "orig_nbformat": 4
 },
 "nbformat": 4,
 "nbformat_minor": 2
}
