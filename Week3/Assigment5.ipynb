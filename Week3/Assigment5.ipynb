{
 "cells": [
  {
   "cell_type": "code",
   "execution_count": null,
   "metadata": {},
   "outputs": [],
   "source": []
  },
  {
   "cell_type": "code",
   "execution_count": 4,
   "metadata": {},
   "outputs": [
    {
     "name": "stdout",
     "output_type": "stream",
     "text": [
      "                          time   latitude   longitude      depth   mag  \\\n",
      "0     2022-06-06T01:55:23.720Z  19.167334 -155.493500  34.169998  2.28   \n",
      "1     2022-06-06T01:48:51.343Z  63.123500 -149.810800  77.900000  1.90   \n",
      "2     2022-06-06T01:41:22.031Z  60.265700 -142.322200   0.000000  2.30   \n",
      "3     2022-06-06T01:36:32.830Z  19.232000 -155.393005  32.480000  2.46   \n",
      "4     2022-06-06T01:26:48.580Z  35.606500 -117.419333   3.140000  1.22   \n",
      "...                        ...        ...         ...        ...   ...   \n",
      "8597  2022-05-07T02:29:51.110Z  17.900167  -66.852333  13.120000  2.45   \n",
      "8598  2022-05-07T02:26:23.221Z  57.809800 -153.915300  24.000000  2.20   \n",
      "8599  2022-05-07T02:23:50.020Z  51.987833  178.322500   4.050000  1.77   \n",
      "8600  2022-05-07T02:22:08.850Z  51.654500 -177.295667  16.810000  0.36   \n",
      "8601  2022-05-07T02:21:47.833Z  62.180500 -151.148100  66.000000  1.50   \n",
      "\n",
      "     magType   nst    gap     dmin   rms  ...                   updated  \\\n",
      "0         ml  46.0  143.0      NaN  0.17  ...  2022-06-06T02:00:53.660Z   \n",
      "1         ml   NaN    NaN      NaN  0.58  ...  2022-06-06T02:15:59.701Z   \n",
      "2         ml   NaN    NaN      NaN  1.10  ...  2022-06-06T01:52:50.362Z   \n",
      "3         ml  45.0  144.0      NaN  0.13  ...  2022-06-06T01:45:30.572Z   \n",
      "4         ml  14.0  105.0  0.04023  0.24  ...  2022-06-06T01:30:25.274Z   \n",
      "...      ...   ...    ...      ...   ...  ...                       ...   \n",
      "8597      md   6.0  233.0      NaN  0.07  ...  2022-05-07T05:43:40.240Z   \n",
      "8598      ml   NaN    NaN      NaN  0.47  ...  2022-05-07T02:32:47.060Z   \n",
      "8599      ml  10.0  314.0      NaN  0.19  ...  2022-05-08T19:22:14.510Z   \n",
      "8600      ml   8.0  304.0      NaN  0.20  ...  2022-05-08T19:31:02.310Z   \n",
      "8601      ml   NaN    NaN      NaN  0.24  ...  2022-05-07T02:29:18.575Z   \n",
      "\n",
      "                                       place        type horizontalError  \\\n",
      "0                 4 km SSW of Pāhala, Hawaii  earthquake            0.53   \n",
      "1               52 km SW of Cantwell, Alaska  earthquake             NaN   \n",
      "2                            Southern Alaska  earthquake             NaN   \n",
      "3                 9 km ENE of Pāhala, Hawaii  earthquake            0.60   \n",
      "4                      18km SSW of Trona, CA  earthquake            0.58   \n",
      "...                                      ...         ...             ...   \n",
      "8597  9 km SSE of Maria Antonia, Puerto Rico  earthquake            0.74   \n",
      "8598           30 km N of Larsen Bay, Alaska  earthquake             NaN   \n",
      "8599   Rat Islands, Aleutian Islands, Alaska  earthquake            1.94   \n",
      "8600               51 km WSW of Adak, Alaska  earthquake            1.39   \n",
      "8601           24 km NNE of Skwentna, Alaska  earthquake             NaN   \n",
      "\n",
      "     depthError  magError  magNst     status  locationSource magSource  \n",
      "0          0.87  3.470000    17.0  automatic              hv        hv  \n",
      "1          0.80       NaN     NaN  automatic              ak        ak  \n",
      "2          0.30       NaN     NaN  automatic              ak        ak  \n",
      "3          0.77  3.700000    24.0  automatic              hv        hv  \n",
      "4          0.55  0.111000    14.0  automatic              ci        ci  \n",
      "...         ...       ...     ...        ...             ...       ...  \n",
      "8597       0.43  0.182458     5.0   reviewed              pr        pr  \n",
      "8598       0.40       NaN     NaN  automatic              ak        ak  \n",
      "8599       1.15  0.203438    10.0   reviewed              av        av  \n",
      "8600       1.32  0.310959     7.0   reviewed              av        av  \n",
      "8601       0.50       NaN     NaN  automatic              ak        ak  \n",
      "\n",
      "[8602 rows x 22 columns]\n"
     ]
    },
    {
     "ename": "NameError",
     "evalue": "name 'all_month' is not defined",
     "output_type": "error",
     "traceback": [
      "\u001b[0;31m---------------------------------------------------------------------------\u001b[0m",
      "\u001b[0;31mNameError\u001b[0m                                 Traceback (most recent call last)",
      "\u001b[1;32m/home/crimarin007/Data science bootcamp/Week3/Assigment5.ipynb Cell 2'\u001b[0m in \u001b[0;36m<cell line: 8>\u001b[0;34m()\u001b[0m\n\u001b[1;32m      <a href='vscode-notebook-cell:/home/crimarin007/Data%20science%20bootcamp/Week3/Assigment5.ipynb#ch0000001?line=4'>5</a>\u001b[0m eData \u001b[39m=\u001b[39m pd\u001b[39m.\u001b[39mread_csv(\u001b[39m\"\u001b[39m\u001b[39mall_month.csv\u001b[39m\u001b[39m\"\u001b[39m)\n\u001b[1;32m      <a href='vscode-notebook-cell:/home/crimarin007/Data%20science%20bootcamp/Week3/Assigment5.ipynb#ch0000001?line=5'>6</a>\u001b[0m \u001b[39mprint\u001b[39m(eData)\n\u001b[0;32m----> <a href='vscode-notebook-cell:/home/crimarin007/Data%20science%20bootcamp/Week3/Assigment5.ipynb#ch0000001?line=7'>8</a>\u001b[0m \u001b[39mprint\u001b[39m(all_month\u001b[39m.\u001b[39mhead(\u001b[39m5\u001b[39m))\n\u001b[1;32m      <a href='vscode-notebook-cell:/home/crimarin007/Data%20science%20bootcamp/Week3/Assigment5.ipynb#ch0000001?line=8'>9</a>\u001b[0m \u001b[39mprint\u001b[39m(all_month\u001b[39m.\u001b[39msample(\u001b[39m10\u001b[39m))\n\u001b[1;32m     <a href='vscode-notebook-cell:/home/crimarin007/Data%20science%20bootcamp/Week3/Assigment5.ipynb#ch0000001?line=9'>10</a>\u001b[0m \u001b[39mprint\u001b[39m(tipsData\u001b[39m.\u001b[39mdescribe())\n",
      "\u001b[0;31mNameError\u001b[0m: name 'all_month' is not defined"
     ]
    }
   ],
   "source": [
    "import pandas as pd\n",
    "import numpy as np\n",
    "import matplotlib.pyplot as plt\n",
    "\n",
    "eData = pd.read_csv(\"all_month.csv\")\n",
    "print(eData)\n",
    "\n",
    "print(all_month.head(5))\n",
    "print(all_month.sample(10))\n",
    "print(tipsData.describe())\n",
    "all_month.isnull().sum()"
   ]
  }
 ],
 "metadata": {
  "interpreter": {
   "hash": "916dbcbb3f70747c44a77c7bcd40155683ae19c65e1c03b4aa3499c5328201f1"
  },
  "kernelspec": {
   "display_name": "Python 3.9.2 64-bit",
   "language": "python",
   "name": "python3"
  },
  "language_info": {
   "codemirror_mode": {
    "name": "ipython",
    "version": 3
   },
   "file_extension": ".py",
   "mimetype": "text/x-python",
   "name": "python",
   "nbconvert_exporter": "python",
   "pygments_lexer": "ipython3",
   "version": "3.9.2"
  },
  "orig_nbformat": 4
 },
 "nbformat": 4,
 "nbformat_minor": 2
}
